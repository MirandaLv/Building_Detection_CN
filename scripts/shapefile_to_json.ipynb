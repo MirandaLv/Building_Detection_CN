{
 "cells": [
  {
   "cell_type": "code",
   "execution_count": 1,
   "id": "21ace0a5",
   "metadata": {},
   "outputs": [],
   "source": [
    "import geopandas\n",
    "import os\n",
    "import zipfile"
   ]
  },
  {
   "cell_type": "code",
   "execution_count": 2,
   "id": "fa820a62",
   "metadata": {},
   "outputs": [],
   "source": [
    "bp = '/rapids/notebooks/sciclone/geograd/Miranda/github/Building_Detection_CN/DigitalGlobe_FineTune'\n",
    "os.mkdir(f'{bp}/extracted')\n",
    "os.mkdir(f'{bp}/annotations')"
   ]
  },
  {
   "cell_type": "code",
   "execution_count": 3,
   "id": "b02db426",
   "metadata": {},
   "outputs": [],
   "source": [
    "for file in os.listdir(f'{bp}/zips'):\n",
    "    if not file.startswith('.'):\n",
    "        with zipfile.ZipFile(f'{bp}/zips/{file}', 'r') as zip_ref:\n",
    "            zip_ref.extractall(f'{bp}/extracted')\n",
    "        name = file.replace('.zip','')\n",
    "        shp_file = geopandas.read_file(f'{bp}/extracted/{name}.shp')\n",
    "        shp_file.to_file(f'{bp}/annotations/{name}.json', driver='GeoJSON')"
   ]
  },
  {
   "cell_type": "code",
   "execution_count": null,
   "id": "c9471a64",
   "metadata": {},
   "outputs": [],
   "source": []
  }
 ],
 "metadata": {
  "kernelspec": {
   "display_name": "Python 3",
   "language": "python",
   "name": "python3"
  },
  "language_info": {
   "codemirror_mode": {
    "name": "ipython",
    "version": 3
   },
   "file_extension": ".py",
   "mimetype": "text/x-python",
   "name": "python",
   "nbconvert_exporter": "python",
   "pygments_lexer": "ipython3",
   "version": "3.7.10"
  }
 },
 "nbformat": 4,
 "nbformat_minor": 5
}
