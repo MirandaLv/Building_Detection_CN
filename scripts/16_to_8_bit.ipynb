{
 "cells": [
  {
   "cell_type": "code",
   "execution_count": 1,
   "id": "a7994e92",
   "metadata": {},
   "outputs": [],
   "source": [
    "from os import listdir\n",
    "import matplotlib.pyplot as plt\n",
    "from osgeo import gdal\n",
    "import numpy as np\n",
    "import subprocess"
   ]
  },
  {
   "cell_type": "code",
   "execution_count": 2,
   "id": "450a236f",
   "metadata": {},
   "outputs": [],
   "source": [
    "def convert_to_8Bit(inputRaster, outputRaster,\n",
    "                           outputPixType='Byte',\n",
    "                           outputFormat='GTiff',\n",
    "                           rescale_type='rescale',\n",
    "                           percentiles=[2, 98]):\n",
    "    '''\n",
    "    Convert 16bit image to 8bit\n",
    "    rescale_type = [clip, rescale]\n",
    "        if clip, scaling is done strictly between 0 65535 \n",
    "        if rescale, each band is rescaled to a min and max \n",
    "        set by percentiles\n",
    "    '''\n",
    "    srcRaster = gdal.Open(inputRaster)\n",
    "    cmd = ['gdal_translate', '-ot', outputPixType, '-of', \n",
    "           outputFormat]\n",
    "    \n",
    "    # iterate through bands\n",
    "    for bandId in range(srcRaster.RasterCount):\n",
    "        bandId = bandId+1\n",
    "        band = srcRaster.GetRasterBand(bandId)\n",
    "        if rescale_type == 'rescale':\n",
    "            bmin = band.GetMinimum()        \n",
    "            bmax = band.GetMaximum()\n",
    "            # if not exist minimum and maximum values\n",
    "            if bmin is None or bmax is None:\n",
    "                (bmin, bmax) = band.ComputeRasterMinMax(1)\n",
    "            # else, rescale\n",
    "            band_arr_tmp = band.ReadAsArray()\n",
    "            bmin = np.percentile(band_arr_tmp.flatten(), \n",
    "                                 percentiles[0])\n",
    "            bmax= np.percentile(band_arr_tmp.flatten(), \n",
    "                                percentiles[1])\n",
    "        else:\n",
    "            bmin, bmax = 0, 65535\n",
    "        cmd.append('-scale_{}'.format(bandId))\n",
    "        cmd.append('{}'.format(bmin))\n",
    "        cmd.append('{}'.format(bmax))\n",
    "        cmd.append('{}'.format(0))\n",
    "        cmd.append('{}'.format(255))\n",
    "    \n",
    "    cmd.append(inputRaster)\n",
    "    cmd.append(outputRaster)\n",
    "    subprocess.call(cmd)"
   ]
  },
  {
   "cell_type": "code",
   "execution_count": 3,
   "id": "5170cd4f",
   "metadata": {},
   "outputs": [],
   "source": [
    "imgfiles = []\n",
    "for f in listdir('datasets_SH_PAN/images'):\n",
    "    if f.endswith(\".tif\"):\n",
    "        imgfiles.append(f)"
   ]
  },
  {
   "cell_type": "code",
   "execution_count": null,
   "id": "41fb4781",
   "metadata": {},
   "outputs": [],
   "source": [
    "for img in imgfiles:\n",
    "    convert_to_8Bit(f'datasets_SH_PAN/images/{img}',f'datasets_SH_PAN/images_int8/{img}')"
   ]
  },
  {
   "cell_type": "code",
   "execution_count": null,
   "id": "d138a305",
   "metadata": {},
   "outputs": [],
   "source": []
  }
 ],
 "metadata": {
  "kernelspec": {
   "display_name": "Python 3",
   "language": "python",
   "name": "python3"
  },
  "language_info": {
   "codemirror_mode": {
    "name": "ipython",
    "version": 3
   },
   "file_extension": ".py",
   "mimetype": "text/x-python",
   "name": "python",
   "nbconvert_exporter": "python",
   "pygments_lexer": "ipython3",
   "version": "3.7.10"
  }
 },
 "nbformat": 4,
 "nbformat_minor": 5
}
