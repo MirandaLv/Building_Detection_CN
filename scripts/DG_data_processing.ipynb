{
 "cells": [
  {
   "cell_type": "code",
   "execution_count": 1,
   "id": "752276c5",
   "metadata": {},
   "outputs": [],
   "source": [
    "import os\n",
    "import sys\n",
    "# import tensorflow_hub as hub\n",
    "import pandas as pd\n",
    "# Root directory of the project\n",
    "ROOT_DIR = os.path.abspath(\"../\")\n",
    "# Import maskRCNN\n",
    "sys.path.append(ROOT_DIR)\n",
    "import geopandas as gpd\n",
    "import DataProcessing as DP\n",
    "import json\n",
    "import skimage\n",
    "from tqdm import tqdm\n",
    "import rasterio\n",
    "from itertools import product\n",
    "from rasterio import windows\n",
    "import DataProcessing as DP\n",
    "from pathlib import Path\n",
    "import rioxarray\n",
    "import shapely\n",
    "from rasterio.warp import calculate_default_transform, reproject, Resampling\n",
    "import shutil\n",
    "import json\n",
    "import random\n",
    "import numpy as np"
   ]
  },
  {
   "cell_type": "code",
   "execution_count": 2,
   "id": "a7b74847",
   "metadata": {},
   "outputs": [],
   "source": [
    "DATA_DIR = os.path.join(ROOT_DIR, \"DigitalGlobe_FineTune\")\n",
    "label_dir = os.path.join(DATA_DIR, \"geo-labels\")\n",
    "image_dir = os.path.join(DATA_DIR, \"images\")\n",
    "image_proj_dir = os.path.join(DATA_DIR, \"images_wgs84\")\n",
    "\n",
    "Path(image_proj_dir).mkdir(exist_ok=True, parents=True)\n",
    "\n",
    "# image_dir = os.path.join(ROOT_DIR, \"datasets_SH_PAN\", \"images_int8\")\n",
    "out_label_dir = os.path.join(ROOT_DIR, \"processing_data_DG\")"
   ]
  },
  {
   "cell_type": "code",
   "execution_count": 3,
   "id": "923b2a3b",
   "metadata": {},
   "outputs": [],
   "source": [
    "def re_projection(intif, outtif, dst_crs=None):\n",
    "    \n",
    "    if dst_crs is None:\n",
    "        \n",
    "        dst_crs = 'EPSG:4326'\n",
    "    \n",
    "    src = rasterio.open(intif)\n",
    "    transform, width, height = calculate_default_transform(src.crs, dst_crs, src.width, src.height, *src.bounds)\n",
    "    kwargs = src.meta.copy()\n",
    "    kwargs.update({\n",
    "        'crs': dst_crs,\n",
    "        'transform': transform,\n",
    "        'width': width,\n",
    "        'height': height\n",
    "    })\n",
    "    \n",
    "    with rasterio.open(outtif, 'w', **kwargs) as dst:\n",
    "        for i in range(1, src.count + 1):\n",
    "            reproject(\n",
    "                source=rasterio.band(src, i),\n",
    "                destination=rasterio.band(dst, i),\n",
    "                src_transform=src.transform,\n",
    "                src_crs=src.crs,\n",
    "                dst_transform=transform,\n",
    "                dst_crs=dst_crs,\n",
    "                resampling=Resampling.nearest)\n",
    "\n",
    "\n"
   ]
  },
  {
   "cell_type": "code",
   "execution_count": 4,
   "id": "a2c3e43d",
   "metadata": {},
   "outputs": [],
   "source": [
    "# need reprojection to standardize the images\n",
    "reprojection = False\n",
    "\n",
    "while reprojection:\n",
    "    reprojection = False\n",
    "    allimages = [file for file in os.listdir(image_dir) if file.endswith(\".tif\")]\n",
    "    \n",
    "    for file in tqdm(allimages):\n",
    "        infile = os.path.join(image_dir, file)\n",
    "        outfile = os.path.join(image_proj_dir, file)\n",
    "        re_projection(infile, outfile, dst_crs=None)"
   ]
  },
  {
   "cell_type": "code",
   "execution_count": 5,
   "id": "34a59446",
   "metadata": {},
   "outputs": [],
   "source": [
    "image_dict = dict()\n",
    "label_dict = dict()\n",
    "\n",
    "for img in os.listdir(image_proj_dir):\n",
    "    if img.endswith(\".tif\"):\n",
    "        image_name = os.path.splitext(img)[0]\n",
    "        if image_name not in image_dict:\n",
    "            image_dict[image_name] = os.path.join(image_proj_dir, img)\n",
    "\n",
    "for label in os.listdir(label_dir):\n",
    "    if label.endswith(\".shp\"):\n",
    "        label_name = os.path.splitext(label)[0]\n",
    "\n",
    "        if label_name not in label_dict:\n",
    "            label_dict[label_name] = os.path.join(label_dir, label)\n"
   ]
  },
  {
   "cell_type": "code",
   "execution_count": 6,
   "id": "68c55ee3",
   "metadata": {},
   "outputs": [],
   "source": [
    "\n",
    "\n",
    "def generate_annotation(single_image_path, single_label_path, label):\n",
    "\n",
    "    \"\"\"\n",
    "    :param single_image_path: image path\n",
    "    :param polygeos: a list of shapely geometries\n",
    "    :param label: object label\n",
    "    :return: save the generated annotation files to annotations folder\n",
    "    \"\"\"\n",
    "\n",
    "    try:\n",
    "        img = rasterio.open(single_image_path)\n",
    "        width = img.width\n",
    "        height = img.height\n",
    "    except:\n",
    "        print(img)\n",
    "        raise\n",
    "\n",
    "\n",
    "    filename = \".\".join(os.path.basename(single_label_path).split('.')[:-1])\n",
    "    annotationfile = Path(out_label_dir) / 'annotations' / (filename + '.json')\n",
    "\n",
    "\n",
    "    image_dict = {\"image_path\": single_image_path, \"image_name\": filename, \"annotations\": [], \"width\": width,\n",
    "                      \"height\": height}\n",
    "    \n",
    "    label_gdf = gpd.read_file(single_label_path)\n",
    "    polygeos = label_gdf.geometry.to_list()\n",
    "    \n",
    "    for idx in range(len(polygeos)):\n",
    "        # assert isinstance(polygeos[idx], shapely.geometry.polygon.Polygon)\n",
    "\n",
    "        label_dict = {\"label\": label}\n",
    "        regions = dict()\n",
    "        \n",
    "        try:\n",
    "            xs, ys = polygeos[idx].exterior.coords.xy\n",
    "            \n",
    "            rs = list()\n",
    "            cs = list()\n",
    "            for x,y in zip(xs,ys):\n",
    "                r, c = img.index(x, y)\n",
    "                new_c, new_r = edge_pixel(c, r, width, height)\n",
    "                \n",
    "                rs.append(new_r)\n",
    "                cs.append(new_c)\n",
    "            \n",
    "            regions['x'] = rs    \n",
    "            regions['y'] = cs\n",
    "\n",
    "        except:\n",
    "            # only get geometry for the first polygon in multipolygon types\n",
    "            coordslist = [list(i.exterior.coords.xy) for i in polygeos[idx].geoms]\n",
    "            xs = coordslist[0][0].tolist()\n",
    "            ys = coordslist[0][1].tolist()\n",
    "            \n",
    "            rs = list()\n",
    "            cs = list()\n",
    "            \n",
    "            for x,y in zip(xs, ys):\n",
    "                \n",
    "                r, c = img.index(x, y)\n",
    "#                 new_r = narrow_num(r, 650)\n",
    "#                 new_c = narrow_num(c, 650)\n",
    "\n",
    "                new_c, new_r = edge_pixel(c, r, width, height)\n",
    "                \n",
    "                rs.append(new_r)\n",
    "                cs.append(new_c)\n",
    "            \n",
    "            regions['x'] = rs    \n",
    "            regions['y'] = cs\n",
    "            \n",
    "        label_dict['region'] = regions\n",
    "        image_dict['annotations'].append(label_dict)\n",
    "\n",
    "        with open(annotationfile, 'w') as js:\n",
    "            json.dump(image_dict, js)\n",
    "            \n",
    "        \n"
   ]
  },
  {
   "cell_type": "code",
   "execution_count": 10,
   "id": "26131bd8",
   "metadata": {},
   "outputs": [],
   "source": [
    "def narrow_num(num, bound):\n",
    "    \n",
    "    if num >= int(bound):\n",
    "        num = int(bound) - 1\n",
    "    if num < 0:\n",
    "        num = 0\n",
    "    \n",
    "    return num\n",
    "\n",
    "\n",
    "def edge_pixel(col, row, cols, rows):\n",
    "    \n",
    "    if col == cols:\n",
    "        col = cols - 10\n",
    "    \n",
    "    if row == rows:\n",
    "        row = rows - 10\n",
    "    \n",
    "    return (col, row)\n",
    "        \n"
   ]
  },
  {
   "cell_type": "code",
   "execution_count": 8,
   "id": "1a993c51",
   "metadata": {},
   "outputs": [
    {
     "name": "stderr",
     "output_type": "stream",
     "text": [
      "  0%|          | 0/182 [00:00<?, ?it/s]"
     ]
    },
    {
     "name": "stdout",
     "output_type": "stream",
     "text": [
      "Working on /rapids/notebooks/sciclone/geograd/Miranda/github/Building_Detection_CN/DigitalGlobe_FineTune/images_wgs84/21.464444444444442_111.08194444444445_port_20210711_DT.tif\n"
     ]
    },
    {
     "name": "stderr",
     "output_type": "stream",
     "text": [
      "  1%|          | 2/182 [00:00<01:15,  2.37it/s]"
     ]
    },
    {
     "name": "stdout",
     "output_type": "stream",
     "text": [
      "Working on /rapids/notebooks/sciclone/geograd/Miranda/github/Building_Detection_CN/DigitalGlobe_FineTune/images_wgs84/20.050555555555555_110.14833333333334_port_20170409_DT.tif\n",
      "Working on /rapids/notebooks/sciclone/geograd/Miranda/github/Building_Detection_CN/DigitalGlobe_FineTune/images_wgs84/26.57361111111111_101.63722222222223_ps_20210212_DT.tif\n"
     ]
    },
    {
     "name": "stderr",
     "output_type": "stream",
     "text": [
      "  2%|▏         | 3/182 [00:01<01:01,  2.90it/s]"
     ]
    },
    {
     "name": "stdout",
     "output_type": "stream",
     "text": [
      "Working on /rapids/notebooks/sciclone/geograd/Miranda/github/Building_Detection_CN/DigitalGlobe_FineTune/images_wgs84/38.92861111111111_121.64888888888889_port_20210721_DT.tif\n"
     ]
    },
    {
     "name": "stderr",
     "output_type": "stream",
     "text": [
      "  2%|▏         | 4/182 [00:01<00:53,  3.30it/s]"
     ]
    },
    {
     "name": "stdout",
     "output_type": "stream",
     "text": [
      "Working on /rapids/notebooks/sciclone/geograd/Miranda/github/Building_Detection_CN/DigitalGlobe_FineTune/images_wgs84/34.980000000000004_109.80277777777778_ps_20211123_DT.tif\n"
     ]
    },
    {
     "name": "stderr",
     "output_type": "stream",
     "text": [
      "  3%|▎         | 5/182 [00:01<00:49,  3.54it/s]"
     ]
    },
    {
     "name": "stdout",
     "output_type": "stream",
     "text": [
      "Working on /rapids/notebooks/sciclone/geograd/Miranda/github/Building_Detection_CN/DigitalGlobe_FineTune/images_wgs84/35.38333333333333_119.56666666666666_port_20210220_DT.tif\n"
     ]
    },
    {
     "name": "stderr",
     "output_type": "stream",
     "text": [
      "  4%|▍         | 7/182 [00:02<00:55,  3.13it/s]"
     ]
    },
    {
     "name": "stdout",
     "output_type": "stream",
     "text": [
      "Working on /rapids/notebooks/sciclone/geograd/Miranda/github/Building_Detection_CN/DigitalGlobe_FineTune/images_wgs84/34.913888888888884_109.0275_f_20200514_DT.tif\n",
      "Working on /rapids/notebooks/sciclone/geograd/Miranda/github/Building_Detection_CN/DigitalGlobe_FineTune/images_wgs84/38.96666666666667_117.66666666666667_port_20211017_DT.tif\n"
     ]
    },
    {
     "name": "stderr",
     "output_type": "stream",
     "text": [
      "  4%|▍         | 8/182 [00:02<00:43,  3.98it/s]"
     ]
    },
    {
     "name": "stdout",
     "output_type": "stream",
     "text": [
      "Working on /rapids/notebooks/sciclone/geograd/Miranda/github/Building_Detection_CN/DigitalGlobe_FineTune/images_wgs84/39.40333333333333_112.47222222222223_f_20190611_DT.tif\n"
     ]
    },
    {
     "name": "stderr",
     "output_type": "stream",
     "text": [
      "  5%|▌         | 10/182 [00:03<00:44,  3.85it/s]"
     ]
    },
    {
     "name": "stdout",
     "output_type": "stream",
     "text": [
      "Working on /rapids/notebooks/sciclone/geograd/Miranda/github/Building_Detection_CN/DigitalGlobe_FineTune/images_wgs84/39.01138888888889_121.86583333333333_port_20210502_DT.tif\n",
      "Working on /rapids/notebooks/sciclone/geograd/Miranda/github/Building_Detection_CN/DigitalGlobe_FineTune/images_wgs84/39.72944444444445_122.31472222222222_f_20180922_DT.tif\n"
     ]
    },
    {
     "name": "stderr",
     "output_type": "stream",
     "text": [
      "  6%|▌         | 11/182 [00:03<00:37,  4.50it/s]"
     ]
    },
    {
     "name": "stdout",
     "output_type": "stream",
     "text": [
      "Working on /rapids/notebooks/sciclone/geograd/Miranda/github/Building_Detection_CN/DigitalGlobe_FineTune/images_wgs84/35.16444444444444_102.47638888888889_ps_20210405_DT.tif\n"
     ]
    },
    {
     "name": "stderr",
     "output_type": "stream",
     "text": [
      "  7%|▋         | 13/182 [00:04<00:52,  3.24it/s]"
     ]
    },
    {
     "name": "stdout",
     "output_type": "stream",
     "text": [
      "Working on /rapids/notebooks/sciclone/geograd/Miranda/github/Building_Detection_CN/DigitalGlobe_FineTune/images_wgs84/36.08166666666667_120.30722222222222_port_20180323_DT.tif\n",
      "Working on /rapids/notebooks/sciclone/geograd/Miranda/github/Building_Detection_CN/DigitalGlobe_FineTune/images_wgs84/36.708333333333336_121.38333333333334_ps_20210117_DT.tif\n"
     ]
    },
    {
     "name": "stderr",
     "output_type": "stream",
     "text": [
      "  9%|▉         | 16/182 [00:04<00:33,  4.99it/s]"
     ]
    },
    {
     "name": "stdout",
     "output_type": "stream",
     "text": [
      "Working on /rapids/notebooks/sciclone/geograd/Miranda/github/Building_Detection_CN/DigitalGlobe_FineTune/images_wgs84/34.812777777777775_114.05555555555556_ps_20200902_DT.tif\n",
      "Working on /rapids/notebooks/sciclone/geograd/Miranda/github/Building_Detection_CN/DigitalGlobe_FineTune/images_wgs84/37.730555555555554_85.69166666666668_ps_20210419_DT.tif\n"
     ]
    },
    {
     "name": "stderr",
     "output_type": "stream",
     "text": [
      "  9%|▉         | 17/182 [00:04<00:33,  4.92it/s]"
     ]
    },
    {
     "name": "stdout",
     "output_type": "stream",
     "text": [
      "Working on /rapids/notebooks/sciclone/geograd/Miranda/github/Building_Detection_CN/DigitalGlobe_FineTune/images_wgs84/37.05_121.9863888888889_f_20180721_DT.tif\n",
      "Working on /rapids/notebooks/sciclone/geograd/Miranda/github/Building_Detection_CN/DigitalGlobe_FineTune/images_wgs84/37.15138888888889_79.85388888888889_ps_20211212_DT.tif\n"
     ]
    },
    {
     "name": "stderr",
     "output_type": "stream",
     "text": [
      " 10%|█         | 19/182 [00:05<00:33,  4.86it/s]"
     ]
    },
    {
     "name": "stdout",
     "output_type": "stream",
     "text": [
      "Working on /rapids/notebooks/sciclone/geograd/Miranda/github/Building_Detection_CN/DigitalGlobe_FineTune/images_wgs84/42.70138888888889_89.43277777777779_f_20200210_DT.tif\n",
      "Working on /rapids/notebooks/sciclone/geograd/Miranda/github/Building_Detection_CN/DigitalGlobe_FineTune/images_wgs84/36.919444444444444_82.65111111111112_ps_20210714_DT.tif\n"
     ]
    },
    {
     "name": "stderr",
     "output_type": "stream",
     "text": [
      " 12%|█▏        | 21/182 [00:05<00:26,  6.03it/s]"
     ]
    },
    {
     "name": "stdout",
     "output_type": "stream",
     "text": [
      "Working on /rapids/notebooks/sciclone/geograd/Miranda/github/Building_Detection_CN/DigitalGlobe_FineTune/images_wgs84/43.612500000000004_122.26527777777778_f_20210207_DT.tif\n",
      "Working on /rapids/notebooks/sciclone/geograd/Miranda/github/Building_Detection_CN/DigitalGlobe_FineTune/images_wgs84/36.35583333333334_95.18472222222222_ps_20200928_DT.tif\n"
     ]
    },
    {
     "name": "stderr",
     "output_type": "stream",
     "text": [
      " 13%|█▎        | 23/182 [00:05<00:22,  7.00it/s]"
     ]
    },
    {
     "name": "stdout",
     "output_type": "stream",
     "text": [
      "Working on /rapids/notebooks/sciclone/geograd/Miranda/github/Building_Detection_CN/DigitalGlobe_FineTune/images_wgs84/43.545833333333334_92.94027777777778_ps_20210908_DT.tif\n",
      "Working on /rapids/notebooks/sciclone/geograd/Miranda/github/Building_Detection_CN/DigitalGlobe_FineTune/images_wgs84/40.56861111111112_96.72222222222223_ps_20210225_DT.tif\n"
     ]
    },
    {
     "name": "stderr",
     "output_type": "stream",
     "text": [
      " 14%|█▎        | 25/182 [00:06<00:23,  6.82it/s]"
     ]
    },
    {
     "name": "stdout",
     "output_type": "stream",
     "text": [
      "Working on /rapids/notebooks/sciclone/geograd/Miranda/github/Building_Detection_CN/DigitalGlobe_FineTune/images_wgs84/40.78805555555555_123.915_f_20210314_DT.tif\n",
      "Working on /rapids/notebooks/sciclone/geograd/Miranda/github/Building_Detection_CN/DigitalGlobe_FineTune/images_wgs84/38.1175_106.51638888888888_ps_20200114_DT.tif\n",
      "Working on /rapids/notebooks/sciclone/geograd/Miranda/github/Building_Detection_CN/DigitalGlobe_FineTune/images_wgs84/40.75527777777778_123.91861111111112_f_20210314_DT.tif\n"
     ]
    },
    {
     "name": "stderr",
     "output_type": "stream",
     "text": [
      " 15%|█▌        | 28/182 [00:06<00:21,  7.01it/s]"
     ]
    },
    {
     "name": "stdout",
     "output_type": "stream",
     "text": [
      "Working on /rapids/notebooks/sciclone/geograd/Miranda/github/Building_Detection_CN/DigitalGlobe_FineTune/images_wgs84/40.956944444444446_87.83999999999999_f_20140811_DT.tif\n",
      "Working on /rapids/notebooks/sciclone/geograd/Miranda/github/Building_Detection_CN/DigitalGlobe_FineTune/images_wgs84/40.504444444444445_96.86916666666666_ps_20210225_DT.tif\n"
     ]
    },
    {
     "name": "stderr",
     "output_type": "stream",
     "text": [
      " 16%|█▋        | 30/182 [00:06<00:21,  7.00it/s]"
     ]
    },
    {
     "name": "stdout",
     "output_type": "stream",
     "text": [
      "Working on /rapids/notebooks/sciclone/geograd/Miranda/github/Building_Detection_CN/DigitalGlobe_FineTune/images_wgs84/41.12361111111111_122.77833333333334_ps_20210419_DT.tif\n",
      "Working on /rapids/notebooks/sciclone/geograd/Miranda/github/Building_Detection_CN/DigitalGlobe_FineTune/images_wgs84/40.664722222222224_122.22833333333334_f_20210322_DT.tif\n"
     ]
    },
    {
     "name": "stderr",
     "output_type": "stream",
     "text": [
      " 17%|█▋        | 31/182 [00:07<00:49,  3.04it/s]"
     ]
    },
    {
     "name": "stdout",
     "output_type": "stream",
     "text": [
      "Working on /rapids/notebooks/sciclone/geograd/Miranda/github/Building_Detection_CN/DigitalGlobe_FineTune/images_wgs84/41.290277777777774_124.2_f_20210314_DT.tif\n"
     ]
    },
    {
     "name": "stderr",
     "output_type": "stream",
     "text": [
      " 18%|█▊        | 33/182 [00:08<00:40,  3.72it/s]"
     ]
    },
    {
     "name": "stdout",
     "output_type": "stream",
     "text": [
      "Working on /rapids/notebooks/sciclone/geograd/Miranda/github/Building_Detection_CN/DigitalGlobe_FineTune/images_wgs84/42.084722222222226_121.745_f_20210118_DT.tif\n",
      "Working on /rapids/notebooks/sciclone/geograd/Miranda/github/Building_Detection_CN/DigitalGlobe_FineTune/images_wgs84/41.719722222222224_125.9263888888889_f_20200226_DT.tif\n"
     ]
    },
    {
     "name": "stderr",
     "output_type": "stream",
     "text": [
      " 19%|█▉        | 35/182 [00:09<01:02,  2.35it/s]"
     ]
    },
    {
     "name": "stdout",
     "output_type": "stream",
     "text": [
      "Working on /rapids/notebooks/sciclone/geograd/Miranda/github/Building_Detection_CN/DigitalGlobe_FineTune/images_wgs84/41.74194444444444_124.71944444444445_f_20180412_DT.tif\n",
      "Working on /rapids/notebooks/sciclone/geograd/Miranda/github/Building_Detection_CN/DigitalGlobe_FineTune/images_wgs84/42.293055555555554_123.84138888888889_f_20210322_DT.tif\n"
     ]
    },
    {
     "name": "stderr",
     "output_type": "stream",
     "text": [
      " 20%|█▉        | 36/182 [00:09<00:48,  2.99it/s]"
     ]
    },
    {
     "name": "stdout",
     "output_type": "stream",
     "text": [
      "Working on /rapids/notebooks/sciclone/geograd/Miranda/github/Building_Detection_CN/DigitalGlobe_FineTune/images_wgs84/39.530277777777776_75.99833333333333_f_20210830_DT.tif\n"
     ]
    },
    {
     "name": "stderr",
     "output_type": "stream",
     "text": [
      " 20%|██        | 37/182 [00:10<01:15,  1.92it/s]"
     ]
    },
    {
     "name": "stdout",
     "output_type": "stream",
     "text": [
      "Working on /rapids/notebooks/sciclone/geograd/Miranda/github/Building_Detection_CN/DigitalGlobe_FineTune/images_wgs84/39.795833333333334_121.48055555555555_ps_20210322_DT.tif\n"
     ]
    },
    {
     "name": "stderr",
     "output_type": "stream",
     "text": [
      " 21%|██▏       | 39/182 [00:11<00:54,  2.60it/s]"
     ]
    },
    {
     "name": "stdout",
     "output_type": "stream",
     "text": [
      "Working on /rapids/notebooks/sciclone/geograd/Miranda/github/Building_Detection_CN/DigitalGlobe_FineTune/images_wgs84/41.35888888888889_124.88722222222223_f_20200220_DT.tif\n",
      "Working on /rapids/notebooks/sciclone/geograd/Miranda/github/Building_Detection_CN/DigitalGlobe_FineTune/images_wgs84/30.660277777777775_118.98916666666666_f_20211031_DT.tif\n"
     ]
    },
    {
     "name": "stderr",
     "output_type": "stream",
     "text": [
      " 22%|██▏       | 40/182 [00:11<00:43,  3.24it/s]"
     ]
    },
    {
     "name": "stdout",
     "output_type": "stream",
     "text": [
      "Working on /rapids/notebooks/sciclone/geograd/Miranda/github/Building_Detection_CN/DigitalGlobe_FineTune/images_wgs84/30.590555555555554_114.09944444444444_f_20211113_DT.tif\n"
     ]
    },
    {
     "name": "stderr",
     "output_type": "stream",
     "text": [
      " 23%|██▎       | 42/182 [00:11<00:40,  3.49it/s]"
     ]
    },
    {
     "name": "stdout",
     "output_type": "stream",
     "text": [
      "Working on /rapids/notebooks/sciclone/geograd/Miranda/github/Building_Detection_CN/DigitalGlobe_FineTune/images_wgs84/30.92527777777778_121.77083333333333_ps_20200423_DT.tif\n",
      "Working on /rapids/notebooks/sciclone/geograd/Miranda/github/Building_Detection_CN/DigitalGlobe_FineTune/images_wgs84/40.180277777777775_120.00611111111111_ps_20201122_DT.tif\n",
      "Working on /rapids/notebooks/sciclone/geograd/Miranda/github/Building_Detection_CN/DigitalGlobe_FineTune/images_wgs84/30.690555555555555_118.89083333333333_f_20211031_DT.tif\n"
     ]
    },
    {
     "name": "stderr",
     "output_type": "stream",
     "text": [
      " 24%|██▍       | 44/182 [00:12<00:32,  4.24it/s]"
     ]
    },
    {
     "name": "stdout",
     "output_type": "stream",
     "text": [
      "Working on /rapids/notebooks/sciclone/geograd/Miranda/github/Building_Detection_CN/DigitalGlobe_FineTune/images_wgs84/30.674166666666668_104.02055555555556_f_20210329_DT.tif\n"
     ]
    },
    {
     "name": "stderr",
     "output_type": "stream",
     "text": [
      " 25%|██▌       | 46/182 [00:12<00:36,  3.74it/s]"
     ]
    },
    {
     "name": "stdout",
     "output_type": "stream",
     "text": [
      "Working on /rapids/notebooks/sciclone/geograd/Miranda/github/Building_Detection_CN/DigitalGlobe_FineTune/images_wgs84/30.75_104.08833333333332_f_20210919_DT.tif\n",
      "Working on /rapids/notebooks/sciclone/geograd/Miranda/github/Building_Detection_CN/DigitalGlobe_FineTune/images_wgs84/30.781388888888888_121.44972222222222_port_20201110_DT.tif\n"
     ]
    },
    {
     "name": "stderr",
     "output_type": "stream",
     "text": [
      " 26%|██▋       | 48/182 [00:13<00:28,  4.63it/s]"
     ]
    },
    {
     "name": "stdout",
     "output_type": "stream",
     "text": [
      "Working on /rapids/notebooks/sciclone/geograd/Miranda/github/Building_Detection_CN/DigitalGlobe_FineTune/images_wgs84/30.784444444444446_121.135_ps_20200218_DT.tif\n",
      "Working on /rapids/notebooks/sciclone/geograd/Miranda/github/Building_Detection_CN/DigitalGlobe_FineTune/images_wgs84/30.72861111111111_111.24472222222222_ps_20210214_DT.tif\n"
     ]
    },
    {
     "name": "stderr",
     "output_type": "stream",
     "text": [
      " 27%|██▋       | 50/182 [00:13<00:25,  5.12it/s]"
     ]
    },
    {
     "name": "stdout",
     "output_type": "stream",
     "text": [
      "Working on /rapids/notebooks/sciclone/geograd/Miranda/github/Building_Detection_CN/DigitalGlobe_FineTune/images_wgs84/30.821944444444444_112.12027777777777_ps_20211004_DT.tif\n",
      "Working on /rapids/notebooks/sciclone/geograd/Miranda/github/Building_Detection_CN/DigitalGlobe_FineTune/images_wgs84/29.251944444444444_92.20833333333334_ps_20211113_DT.tif\n"
     ]
    },
    {
     "name": "stderr",
     "output_type": "stream",
     "text": [
      " 28%|██▊       | 51/182 [00:13<00:27,  4.69it/s]"
     ]
    },
    {
     "name": "stdout",
     "output_type": "stream",
     "text": [
      "Working on /rapids/notebooks/sciclone/geograd/Miranda/github/Building_Detection_CN/DigitalGlobe_FineTune/images_wgs84/29.56638888888889_106.58527777777778_port_20190826_DT.tif\n"
     ]
    },
    {
     "name": "stderr",
     "output_type": "stream",
     "text": [
      " 29%|██▉       | 53/182 [00:14<00:27,  4.71it/s]"
     ]
    },
    {
     "name": "stdout",
     "output_type": "stream",
     "text": [
      "Working on /rapids/notebooks/sciclone/geograd/Miranda/github/Building_Detection_CN/DigitalGlobe_FineTune/images_wgs84/30.865555555555556_121.83999999999999_ps_20210518_DT.tif\n",
      "Working on /rapids/notebooks/sciclone/geograd/Miranda/github/Building_Detection_CN/DigitalGlobe_FineTune/images_wgs84/30.3075_111.74027777777778_ps_20210925_DT.tif\n"
     ]
    },
    {
     "name": "stderr",
     "output_type": "stream",
     "text": [
      " 30%|███       | 55/182 [00:14<00:22,  5.60it/s]"
     ]
    },
    {
     "name": "stdout",
     "output_type": "stream",
     "text": [
      "Working on /rapids/notebooks/sciclone/geograd/Miranda/github/Building_Detection_CN/DigitalGlobe_FineTune/images_wgs84/29.87777777777778_91.19638888888889_ps_20181030_DT.tif\n",
      "Working on /rapids/notebooks/sciclone/geograd/Miranda/github/Building_Detection_CN/DigitalGlobe_FineTune/images_wgs84/29.343333333333334_117.20277777777778_ps_20210112_DT.tif\n"
     ]
    },
    {
     "name": "stderr",
     "output_type": "stream",
     "text": [
      " 31%|███       | 56/182 [00:14<00:28,  4.44it/s]"
     ]
    },
    {
     "name": "stdout",
     "output_type": "stream",
     "text": [
      "Working on /rapids/notebooks/sciclone/geograd/Miranda/github/Building_Detection_CN/DigitalGlobe_FineTune/images_wgs84/32.0025_119.73305555555555_f_20210117_DT.tif\n"
     ]
    },
    {
     "name": "stderr",
     "output_type": "stream",
     "text": [
      " 32%|███▏      | 58/182 [00:18<02:03,  1.00it/s]"
     ]
    },
    {
     "name": "stdout",
     "output_type": "stream",
     "text": [
      "Working on /rapids/notebooks/sciclone/geograd/Miranda/github/Building_Detection_CN/DigitalGlobe_FineTune/images_wgs84/30.45722222222222_112.13833333333334_ps_20200816_DT.tif\n",
      "Working on /rapids/notebooks/sciclone/geograd/Miranda/github/Building_Detection_CN/DigitalGlobe_FineTune/images_wgs84/30.43305555555556_120.95_ps_20200201_DT.tif\n"
     ]
    },
    {
     "name": "stderr",
     "output_type": "stream",
     "text": [
      " 33%|███▎      | 60/182 [00:19<01:08,  1.79it/s]"
     ]
    },
    {
     "name": "stdout",
     "output_type": "stream",
     "text": [
      "Working on /rapids/notebooks/sciclone/geograd/Miranda/github/Building_Detection_CN/DigitalGlobe_FineTune/images_wgs84/30.580555555555556_121.06472222222222_port_20211201_DT.tif\n",
      "Working on /rapids/notebooks/sciclone/geograd/Miranda/github/Building_Detection_CN/DigitalGlobe_FineTune/images_wgs84/32.0175_119.8425_f_20200604_DT.tif\n"
     ]
    },
    {
     "name": "stderr",
     "output_type": "stream",
     "text": [
      " 34%|███▎      | 61/182 [00:20<01:31,  1.33it/s]"
     ]
    },
    {
     "name": "stdout",
     "output_type": "stream",
     "text": [
      "Working on /rapids/notebooks/sciclone/geograd/Miranda/github/Building_Detection_CN/DigitalGlobe_FineTune/images_wgs84/30.516666666666666_117.03333333333333_port_20170326_DT.tif\n"
     ]
    },
    {
     "name": "stderr",
     "output_type": "stream",
     "text": [
      " 34%|███▍      | 62/182 [00:22<02:18,  1.15s/it]"
     ]
    },
    {
     "name": "stdout",
     "output_type": "stream",
     "text": [
      "Working on /rapids/notebooks/sciclone/geograd/Miranda/github/Building_Detection_CN/DigitalGlobe_FineTune/images_wgs84/32.2675_119.76305555555555_f_20190813_DT.tif\n"
     ]
    },
    {
     "name": "stderr",
     "output_type": "stream",
     "text": [
      " 35%|███▍      | 63/182 [00:23<02:17,  1.15s/it]"
     ]
    },
    {
     "name": "stdout",
     "output_type": "stream",
     "text": [
      "Working on /rapids/notebooks/sciclone/geograd/Miranda/github/Building_Detection_CN/DigitalGlobe_FineTune/images_wgs84/32.14_119.98111111111112_f_20210322_DT.tif\n"
     ]
    },
    {
     "name": "stderr",
     "output_type": "stream",
     "text": [
      " 35%|███▌      | 64/182 [00:24<01:58,  1.01s/it]"
     ]
    },
    {
     "name": "stdout",
     "output_type": "stream",
     "text": [
      "Working on /rapids/notebooks/sciclone/geograd/Miranda/github/Building_Detection_CN/DigitalGlobe_FineTune/images_wgs84/32.02027777777778_119.8786111111111_f_20200604_DT.tif\n"
     ]
    },
    {
     "name": "stderr",
     "output_type": "stream",
     "text": [
      " 36%|███▌      | 65/182 [00:24<01:38,  1.18it/s]"
     ]
    },
    {
     "name": "stdout",
     "output_type": "stream",
     "text": [
      "Working on /rapids/notebooks/sciclone/geograd/Miranda/github/Building_Detection_CN/DigitalGlobe_FineTune/images_wgs84/32.00472222222222_120.05277777777778_f_20201215_DT.tif\n"
     ]
    },
    {
     "name": "stderr",
     "output_type": "stream",
     "text": [
      " 37%|███▋      | 67/182 [00:25<01:06,  1.73it/s]"
     ]
    },
    {
     "name": "stdout",
     "output_type": "stream",
     "text": [
      "Working on /rapids/notebooks/sciclone/geograd/Miranda/github/Building_Detection_CN/DigitalGlobe_FineTune/images_wgs84/31.09361111111111_119.07249999999999_f_20210505_DT.tif\n",
      "Working on /rapids/notebooks/sciclone/geograd/Miranda/github/Building_Detection_CN/DigitalGlobe_FineTune/images_wgs84/32.00944444444445_120.51027777777777_f_20201215_DT.tif\n"
     ]
    },
    {
     "name": "stderr",
     "output_type": "stream",
     "text": [
      " 37%|███▋      | 68/182 [00:26<01:19,  1.43it/s]"
     ]
    },
    {
     "name": "stdout",
     "output_type": "stream",
     "text": [
      "Working on /rapids/notebooks/sciclone/geograd/Miranda/github/Building_Detection_CN/DigitalGlobe_FineTune/images_wgs84/31.323333333333334_104.58166666666666_ps_20191203_DT.tif\n"
     ]
    },
    {
     "name": "stderr",
     "output_type": "stream",
     "text": [
      " 38%|███▊      | 70/182 [00:27<00:52,  2.13it/s]"
     ]
    },
    {
     "name": "stdout",
     "output_type": "stream",
     "text": [
      "Working on /rapids/notebooks/sciclone/geograd/Miranda/github/Building_Detection_CN/DigitalGlobe_FineTune/images_wgs84/32.00611111111111_119.82944444444443_f_20210417_DT.tif\n",
      "Working on /rapids/notebooks/sciclone/geograd/Miranda/github/Building_Detection_CN/DigitalGlobe_FineTune/images_wgs84/31.236666666666668_121.1863888888889_ps_20211125_DT.tif\n"
     ]
    },
    {
     "name": "stderr",
     "output_type": "stream",
     "text": [
      " 39%|███▉      | 71/182 [00:27<00:44,  2.48it/s]"
     ]
    },
    {
     "name": "stdout",
     "output_type": "stream",
     "text": [
      "Working on /rapids/notebooks/sciclone/geograd/Miranda/github/Building_Detection_CN/DigitalGlobe_FineTune/images_wgs84/31.38861111111111_104.35722222222222_ps_20190921_DT.tif\n"
     ]
    },
    {
     "name": "stderr",
     "output_type": "stream",
     "text": [
      " 40%|████      | 73/182 [00:27<00:38,  2.86it/s]"
     ]
    },
    {
     "name": "stdout",
     "output_type": "stream",
     "text": [
      "Working on /rapids/notebooks/sciclone/geograd/Miranda/github/Building_Detection_CN/DigitalGlobe_FineTune/images_wgs84/31.729166666666664_118.46305555555556_port_20210119_DT.tif\n",
      "Working on /rapids/notebooks/sciclone/geograd/Miranda/github/Building_Detection_CN/DigitalGlobe_FineTune/images_wgs84/31.603333333333335_119.76638888888888_ps_20190408_DT.tif\n"
     ]
    },
    {
     "name": "stderr",
     "output_type": "stream",
     "text": [
      " 41%|████      | 74/182 [00:28<00:30,  3.54it/s]"
     ]
    },
    {
     "name": "stdout",
     "output_type": "stream",
     "text": [
      "Working on /rapids/notebooks/sciclone/geograd/Miranda/github/Building_Detection_CN/DigitalGlobe_FineTune/images_wgs84/31.916666666666668_120.23333333333333_port_20190814_DT.tif\n"
     ]
    },
    {
     "name": "stderr",
     "output_type": "stream",
     "text": [
      " 41%|████      | 75/182 [00:28<00:40,  2.64it/s]"
     ]
    },
    {
     "name": "stdout",
     "output_type": "stream",
     "text": [
      "Working on /rapids/notebooks/sciclone/geograd/Miranda/github/Building_Detection_CN/DigitalGlobe_FineTune/images_wgs84/32.8175_119.63861111111112_f_20141217_DT.tif\n"
     ]
    },
    {
     "name": "stderr",
     "output_type": "stream",
     "text": [
      " 42%|████▏     | 76/182 [00:29<00:41,  2.56it/s]"
     ]
    },
    {
     "name": "stdout",
     "output_type": "stream",
     "text": [
      "Working on /rapids/notebooks/sciclone/geograd/Miranda/github/Building_Detection_CN/DigitalGlobe_FineTune/images_wgs84/31.995555555555555_120.14277777777778_f_20201215_DT.tif\n"
     ]
    },
    {
     "name": "stderr",
     "output_type": "stream",
     "text": [
      " 43%|████▎     | 78/182 [00:29<00:42,  2.44it/s]"
     ]
    },
    {
     "name": "stdout",
     "output_type": "stream",
     "text": [
      "Working on /rapids/notebooks/sciclone/geograd/Miranda/github/Building_Detection_CN/DigitalGlobe_FineTune/images_wgs84/39.9925_113.11972222222222_f_20210831_DT.tif\n",
      "Working on /rapids/notebooks/sciclone/geograd/Miranda/github/Building_Detection_CN/DigitalGlobe_FineTune/images_wgs84/31.18888888888889_121.47055555555556_port_20211111_DT.tif\n"
     ]
    },
    {
     "name": "stderr",
     "output_type": "stream",
     "text": [
      " 43%|████▎     | 79/182 [00:30<00:37,  2.77it/s]"
     ]
    },
    {
     "name": "stdout",
     "output_type": "stream",
     "text": [
      "Working on /rapids/notebooks/sciclone/geograd/Miranda/github/Building_Detection_CN/DigitalGlobe_FineTune/images_wgs84/31.991111111111113_120.66194444444444_port_20211004_DT.tif\n"
     ]
    },
    {
     "name": "stderr",
     "output_type": "stream",
     "text": [
      " 45%|████▍     | 81/182 [00:30<00:29,  3.46it/s]"
     ]
    },
    {
     "name": "stdout",
     "output_type": "stream",
     "text": [
      "Working on /rapids/notebooks/sciclone/geograd/Miranda/github/Building_Detection_CN/DigitalGlobe_FineTune/images_wgs84/32.99166666666667_118.69250000000001_f_20200519_DT.tif\n",
      "Working on /rapids/notebooks/sciclone/geograd/Miranda/github/Building_Detection_CN/DigitalGlobe_FineTune/images_wgs84/32.02055555555555_119.88194444444444_f_20200604_DT.tif\n"
     ]
    },
    {
     "name": "stderr",
     "output_type": "stream",
     "text": [
      " 45%|████▌     | 82/182 [00:31<00:34,  2.87it/s]"
     ]
    },
    {
     "name": "stdout",
     "output_type": "stream",
     "text": [
      "Working on /rapids/notebooks/sciclone/geograd/Miranda/github/Building_Detection_CN/DigitalGlobe_FineTune/images_wgs84/33.19499999999999_104.41222222222223_ps_20210209_DT.tif\n",
      "Working on /rapids/notebooks/sciclone/geograd/Miranda/github/Building_Detection_CN/DigitalGlobe_FineTune/images_wgs84/32.277499999999996_119.79777777777778_f_20190813_DT.tif\n"
     ]
    },
    {
     "name": "stderr",
     "output_type": "stream",
     "text": [
      " 46%|████▌     | 84/182 [00:32<00:36,  2.65it/s]"
     ]
    },
    {
     "name": "stdout",
     "output_type": "stream",
     "text": [
      "Working on /rapids/notebooks/sciclone/geograd/Miranda/github/Building_Detection_CN/DigitalGlobe_FineTune/images_wgs84/32.175555555555555_119.97_f_20210322_DT.tif\n"
     ]
    },
    {
     "name": "stderr",
     "output_type": "stream",
     "text": [
      " 47%|████▋     | 85/182 [00:32<00:39,  2.47it/s]"
     ]
    },
    {
     "name": "stdout",
     "output_type": "stream",
     "text": [
      "Working on /rapids/notebooks/sciclone/geograd/Miranda/github/Building_Detection_CN/DigitalGlobe_FineTune/images_wgs84/33.56777777777778_105.5038888888889_ps_20210713_DT.tif\n"
     ]
    },
    {
     "name": "stderr",
     "output_type": "stream",
     "text": [
      " 47%|████▋     | 86/182 [00:32<00:35,  2.74it/s]"
     ]
    },
    {
     "name": "stdout",
     "output_type": "stream",
     "text": [
      "Working on /rapids/notebooks/sciclone/geograd/Miranda/github/Building_Detection_CN/DigitalGlobe_FineTune/images_wgs84/32.486111111111114_119.86027777777777_f_20200503_DT.tif\n"
     ]
    },
    {
     "name": "stderr",
     "output_type": "stream",
     "text": [
      " 48%|████▊     | 87/182 [00:34<01:03,  1.49it/s]"
     ]
    },
    {
     "name": "stdout",
     "output_type": "stream",
     "text": [
      "Working on /rapids/notebooks/sciclone/geograd/Miranda/github/Building_Detection_CN/DigitalGlobe_FineTune/images_wgs84/32.705000000000005_119.45805555555556_f_20201104_DT.tif\n"
     ]
    },
    {
     "name": "stderr",
     "output_type": "stream",
     "text": [
      " 48%|████▊     | 88/182 [00:35<01:11,  1.32it/s]"
     ]
    },
    {
     "name": "stdout",
     "output_type": "stream",
     "text": [
      "Working on /rapids/notebooks/sciclone/geograd/Miranda/github/Building_Detection_CN/DigitalGlobe_FineTune/images_wgs84/32.757222222222225_119.59694444444445_f_20181218_DT.tif\n"
     ]
    },
    {
     "name": "stderr",
     "output_type": "stream",
     "text": [
      " 49%|████▉     | 89/182 [00:35<01:01,  1.51it/s]"
     ]
    },
    {
     "name": "stdout",
     "output_type": "stream",
     "text": [
      "Working on /rapids/notebooks/sciclone/geograd/Miranda/github/Building_Detection_CN/DigitalGlobe_FineTune/images_wgs84/32.297777777777775_119.7925_ps_20200216_DT.tif\n"
     ]
    },
    {
     "name": "stderr",
     "output_type": "stream",
     "text": [
      " 50%|█████     | 91/182 [00:36<00:39,  2.31it/s]"
     ]
    },
    {
     "name": "stdout",
     "output_type": "stream",
     "text": [
      "Working on /rapids/notebooks/sciclone/geograd/Miranda/github/Building_Detection_CN/DigitalGlobe_FineTune/images_wgs84/38.63666666666666_87.35722222222222_ps_20210913_DT.tif\n",
      "Working on /rapids/notebooks/sciclone/geograd/Miranda/github/Building_Detection_CN/DigitalGlobe_FineTune/images_wgs84/32.800555555555555_119.48055555555555_f_20201104_DT.tif\n"
     ]
    },
    {
     "name": "stderr",
     "output_type": "stream",
     "text": [
      " 51%|█████     | 92/182 [00:36<00:36,  2.50it/s]"
     ]
    },
    {
     "name": "stdout",
     "output_type": "stream",
     "text": [
      "Working on /rapids/notebooks/sciclone/geograd/Miranda/github/Building_Detection_CN/DigitalGlobe_FineTune/images_wgs84/32.809444444444445_119.66027777777778_f_20160724_DT.tif\n"
     ]
    },
    {
     "name": "stderr",
     "output_type": "stream",
     "text": [
      " 51%|█████     | 93/182 [00:37<00:44,  1.99it/s]"
     ]
    },
    {
     "name": "stdout",
     "output_type": "stream",
     "text": [
      "Working on /rapids/notebooks/sciclone/geograd/Miranda/github/Building_Detection_CN/DigitalGlobe_FineTune/images_wgs84/32.893055555555556_119.93333333333334_f_20210204_DT.tif\n"
     ]
    },
    {
     "name": "stderr",
     "output_type": "stream",
     "text": [
      " 52%|█████▏    | 94/182 [00:40<01:55,  1.31s/it]"
     ]
    },
    {
     "name": "stdout",
     "output_type": "stream",
     "text": [
      "Working on /rapids/notebooks/sciclone/geograd/Miranda/github/Building_Detection_CN/DigitalGlobe_FineTune/images_wgs84/32.099444444444444_119.87249999999999_f_20210322_DT.tif\n"
     ]
    },
    {
     "name": "stderr",
     "output_type": "stream",
     "text": [
      " 52%|█████▏    | 95/182 [00:41<01:46,  1.22s/it]"
     ]
    },
    {
     "name": "stdout",
     "output_type": "stream",
     "text": [
      "Working on /rapids/notebooks/sciclone/geograd/Miranda/github/Building_Detection_CN/DigitalGlobe_FineTune/images_wgs84/32.925555555555555_119.85472222222222_f_20201228_DT.tif\n"
     ]
    },
    {
     "name": "stderr",
     "output_type": "stream",
     "text": [
      " 53%|█████▎    | 97/182 [00:45<02:02,  1.44s/it]"
     ]
    },
    {
     "name": "stdout",
     "output_type": "stream",
     "text": [
      "Working on /rapids/notebooks/sciclone/geograd/Miranda/github/Building_Detection_CN/DigitalGlobe_FineTune/images_wgs84/32.125277777777775_119.98555555555555_f_20210322_DT.tif\n",
      "Working on /rapids/notebooks/sciclone/geograd/Miranda/github/Building_Detection_CN/DigitalGlobe_FineTune/images_wgs84/32.103611111111114_119.765_f_20200216_DT.tif\n"
     ]
    },
    {
     "name": "stderr",
     "output_type": "stream",
     "text": [
      " 54%|█████▍    | 99/182 [00:46<01:24,  1.01s/it]"
     ]
    },
    {
     "name": "stdout",
     "output_type": "stream",
     "text": [
      "Working on /rapids/notebooks/sciclone/geograd/Miranda/github/Building_Detection_CN/DigitalGlobe_FineTune/images_wgs84/34.57916666666667_107.3286111111111_ps_20200128_DT.tif\n",
      "Working on /rapids/notebooks/sciclone/geograd/Miranda/github/Building_Detection_CN/DigitalGlobe_FineTune/images_wgs84/32.157777777777774_119.82055555555556_f_20210322_DT.tif\n"
     ]
    },
    {
     "name": "stderr",
     "output_type": "stream",
     "text": [
      " 55%|█████▍    | 100/182 [00:49<02:04,  1.52s/it]"
     ]
    },
    {
     "name": "stdout",
     "output_type": "stream",
     "text": [
      "Working on /rapids/notebooks/sciclone/geograd/Miranda/github/Building_Detection_CN/DigitalGlobe_FineTune/images_wgs84/34.530277777777776_109.94666666666667_ps_20211119_DT.tif\n"
     ]
    },
    {
     "name": "stderr",
     "output_type": "stream",
     "text": [
      " 56%|█████▌    | 102/182 [00:50<01:13,  1.09it/s]"
     ]
    },
    {
     "name": "stdout",
     "output_type": "stream",
     "text": [
      "Working on /rapids/notebooks/sciclone/geograd/Miranda/github/Building_Detection_CN/DigitalGlobe_FineTune/images_wgs84/33.70666666666667_105.76416666666667_ps_20210713_DT.tif\n",
      "Working on /rapids/notebooks/sciclone/geograd/Miranda/github/Building_Detection_CN/DigitalGlobe_FineTune/images_wgs84/33.68416666666666_105.00138888888888_ps_20190203_DT.tif\n"
     ]
    },
    {
     "name": "stderr",
     "output_type": "stream",
     "text": [
      " 57%|█████▋    | 103/182 [00:50<00:56,  1.39it/s]"
     ]
    },
    {
     "name": "stdout",
     "output_type": "stream",
     "text": [
      "Working on /rapids/notebooks/sciclone/geograd/Miranda/github/Building_Detection_CN/DigitalGlobe_FineTune/images_wgs84/32.115833333333335_119.86888888888888_f_20210322_DT.tif\n"
     ]
    },
    {
     "name": "stderr",
     "output_type": "stream",
     "text": [
      " 58%|█████▊    | 105/182 [00:51<00:46,  1.67it/s]"
     ]
    },
    {
     "name": "stdout",
     "output_type": "stream",
     "text": [
      "Working on /rapids/notebooks/sciclone/geograd/Miranda/github/Building_Detection_CN/DigitalGlobe_FineTune/images_wgs84/33.90694444444444_104.00888888888889_ps_20201221_DT.tif\n",
      "Working on /rapids/notebooks/sciclone/geograd/Miranda/github/Building_Detection_CN/DigitalGlobe_FineTune/images_wgs84/33.73527777777778_106.38583333333334_ps_20101019_DT.tif\n"
     ]
    },
    {
     "name": "stderr",
     "output_type": "stream",
     "text": [
      " 59%|█████▉    | 107/182 [00:52<00:32,  2.28it/s]"
     ]
    },
    {
     "name": "stdout",
     "output_type": "stream",
     "text": [
      "Working on /rapids/notebooks/sciclone/geograd/Miranda/github/Building_Detection_CN/DigitalGlobe_FineTune/images_wgs84/34.5575_103.585_ps_20211029_DT.tif\n",
      "Working on /rapids/notebooks/sciclone/geograd/Miranda/github/Building_Detection_CN/DigitalGlobe_FineTune/images_wgs84/33.77583333333333_106.31083333333333_ps_20190628_DT.tif\n"
     ]
    },
    {
     "name": "stderr",
     "output_type": "stream",
     "text": [
      " 59%|█████▉    | 108/182 [00:52<00:27,  2.68it/s]"
     ]
    },
    {
     "name": "stdout",
     "output_type": "stream",
     "text": [
      "Working on /rapids/notebooks/sciclone/geograd/Miranda/github/Building_Detection_CN/DigitalGlobe_FineTune/images_wgs84/33.80722222222222_105.03194444444445_ps_20190203_DT.tif\n"
     ]
    },
    {
     "name": "stderr",
     "output_type": "stream",
     "text": [
      " 60%|█████▉    | 109/182 [00:53<00:35,  2.08it/s]"
     ]
    },
    {
     "name": "stdout",
     "output_type": "stream",
     "text": [
      "Working on /rapids/notebooks/sciclone/geograd/Miranda/github/Building_Detection_CN/DigitalGlobe_FineTune/images_wgs84/33.98638888888889_103.91305555555556_ps_20201221_DT.tif\n"
     ]
    },
    {
     "name": "stderr",
     "output_type": "stream",
     "text": [
      " 61%|██████    | 111/182 [00:53<00:25,  2.83it/s]"
     ]
    },
    {
     "name": "stdout",
     "output_type": "stream",
     "text": [
      "Working on /rapids/notebooks/sciclone/geograd/Miranda/github/Building_Detection_CN/DigitalGlobe_FineTune/images_wgs84/34.235_107.58972222222222_f_20180121_DT.tif\n"
     ]
    },
    {
     "name": "stderr",
     "output_type": "stream",
     "text": [
      " 62%|██████▏   | 112/182 [00:53<00:20,  3.38it/s]"
     ]
    },
    {
     "name": "stdout",
     "output_type": "stream",
     "text": [
      "Working on /rapids/notebooks/sciclone/geograd/Miranda/github/Building_Detection_CN/DigitalGlobe_FineTune/images_wgs84/33.348333333333336_104.9325_ps_20210117_DT.tif\n",
      "Working on /rapids/notebooks/sciclone/geograd/Miranda/github/Building_Detection_CN/DigitalGlobe_FineTune/images_wgs84/34.04555555555555_103.2461111111111_ps_20210226_DT.tif\n"
     ]
    },
    {
     "name": "stderr",
     "output_type": "stream",
     "text": [
      " 63%|██████▎   | 114/182 [00:54<00:21,  3.23it/s]"
     ]
    },
    {
     "name": "stdout",
     "output_type": "stream",
     "text": [
      "Working on /rapids/notebooks/sciclone/geograd/Miranda/github/Building_Detection_CN/DigitalGlobe_FineTune/images_wgs84/34.45277777777778_103.07555555555555_ps_20210324_DT.tif\n",
      "Working on /rapids/notebooks/sciclone/geograd/Miranda/github/Building_Detection_CN/DigitalGlobe_FineTune/images_wgs84/32.13305555555556_119.85_f_20210322_DT.tif\n"
     ]
    },
    {
     "name": "stderr",
     "output_type": "stream",
     "text": [
      " 63%|██████▎   | 115/182 [00:55<00:29,  2.29it/s]"
     ]
    },
    {
     "name": "stdout",
     "output_type": "stream",
     "text": [
      "Working on /rapids/notebooks/sciclone/geograd/Miranda/github/Building_Detection_CN/DigitalGlobe_FineTune/images_wgs84/32.09583333333334_120.485_port_20201215_DT.tif\n"
     ]
    },
    {
     "name": "stderr",
     "output_type": "stream",
     "text": [
      " 64%|██████▎   | 116/182 [00:55<00:27,  2.40it/s]"
     ]
    },
    {
     "name": "stdout",
     "output_type": "stream",
     "text": [
      "Working on /rapids/notebooks/sciclone/geograd/Miranda/github/Building_Detection_CN/DigitalGlobe_FineTune/images_wgs84/34.206944444444446_104.39750000000001_ps_20210114_DT.tif\n"
     ]
    },
    {
     "name": "stderr",
     "output_type": "stream",
     "text": [
      " 65%|██████▍   | 118/182 [00:56<00:22,  2.79it/s]"
     ]
    },
    {
     "name": "stdout",
     "output_type": "stream",
     "text": [
      "Working on /rapids/notebooks/sciclone/geograd/Miranda/github/Building_Detection_CN/DigitalGlobe_FineTune/images_wgs84/34.01361111111111_103.36888888888888_ps_20210226_DT.tif\n",
      "Working on /rapids/notebooks/sciclone/geograd/Miranda/github/Building_Detection_CN/DigitalGlobe_FineTune/images_wgs84/34.32888888888889_109.12583333333333_f_20211123_DT.tif\n"
     ]
    },
    {
     "name": "stderr",
     "output_type": "stream",
     "text": [
      " 65%|██████▌   | 119/182 [00:56<00:25,  2.49it/s]"
     ]
    },
    {
     "name": "stdout",
     "output_type": "stream",
     "text": [
      "Working on /rapids/notebooks/sciclone/geograd/Miranda/github/Building_Detection_CN/DigitalGlobe_FineTune/images_wgs84/33.259166666666665_105.73805555555556_ps_20190107_DT.tif\n"
     ]
    },
    {
     "name": "stderr",
     "output_type": "stream",
     "text": [
      " 66%|██████▌   | 120/182 [00:57<00:29,  2.07it/s]"
     ]
    },
    {
     "name": "stdout",
     "output_type": "stream",
     "text": [
      "Working on /rapids/notebooks/sciclone/geograd/Miranda/github/Building_Detection_CN/DigitalGlobe_FineTune/images_wgs84/34.385555555555555_109.2961111111111_f_20200319_DT.tif\n"
     ]
    },
    {
     "name": "stderr",
     "output_type": "stream",
     "text": [
      " 66%|██████▋   | 121/182 [00:58<00:32,  1.87it/s]"
     ]
    },
    {
     "name": "stdout",
     "output_type": "stream",
     "text": [
      "Working on /rapids/notebooks/sciclone/geograd/Miranda/github/Building_Detection_CN/DigitalGlobe_FineTune/images_wgs84/32.16166666666666_119.99583333333334_f_20210322_DT.tif\n"
     ]
    },
    {
     "name": "stderr",
     "output_type": "stream",
     "text": [
      " 67%|██████▋   | 122/182 [00:58<00:33,  1.77it/s]"
     ]
    },
    {
     "name": "stdout",
     "output_type": "stream",
     "text": [
      "Working on /rapids/notebooks/sciclone/geograd/Miranda/github/Building_Detection_CN/DigitalGlobe_FineTune/images_wgs84/32.14277777777778_119.98027777777779_f_20210322_DT.tif\n"
     ]
    },
    {
     "name": "stderr",
     "output_type": "stream",
     "text": [
      " 68%|██████▊   | 123/182 [00:59<00:29,  1.98it/s]"
     ]
    },
    {
     "name": "stdout",
     "output_type": "stream",
     "text": [
      "Working on /rapids/notebooks/sciclone/geograd/Miranda/github/Building_Detection_CN/DigitalGlobe_FineTune/images_wgs84/32.14333333333333_119.88305555555554_f_20210322_DT.tif\n"
     ]
    },
    {
     "name": "stderr",
     "output_type": "stream",
     "text": [
      " 68%|██████▊   | 124/182 [00:59<00:30,  1.90it/s]"
     ]
    },
    {
     "name": "stdout",
     "output_type": "stream",
     "text": [
      "Working on /rapids/notebooks/sciclone/geograd/Miranda/github/Building_Detection_CN/DigitalGlobe_FineTune/images_wgs84/32.15083333333333_119.82166666666666_f_20210322_DT.tif\n"
     ]
    },
    {
     "name": "stderr",
     "output_type": "stream",
     "text": [
      " 69%|██████▊   | 125/182 [01:00<00:35,  1.60it/s]"
     ]
    },
    {
     "name": "stdout",
     "output_type": "stream",
     "text": [
      "Working on /rapids/notebooks/sciclone/geograd/Miranda/github/Building_Detection_CN/DigitalGlobe_FineTune/images_wgs84/32.14611111111111_119.82833333333333_f_20210322_DT.tif\n"
     ]
    },
    {
     "name": "stderr",
     "output_type": "stream",
     "text": [
      " 69%|██████▉   | 126/182 [01:00<00:31,  1.77it/s]"
     ]
    },
    {
     "name": "stdout",
     "output_type": "stream",
     "text": [
      "Working on /rapids/notebooks/sciclone/geograd/Miranda/github/Building_Detection_CN/DigitalGlobe_FineTune/images_wgs84/32.05444444444444_119.85055555555554_f_20210322_DT.tif\n"
     ]
    },
    {
     "name": "stderr",
     "output_type": "stream",
     "text": [
      " 70%|██████▉   | 127/182 [01:01<00:37,  1.47it/s]"
     ]
    },
    {
     "name": "stdout",
     "output_type": "stream",
     "text": [
      "Working on /rapids/notebooks/sciclone/geograd/Miranda/github/Building_Detection_CN/DigitalGlobe_FineTune/images_wgs84/32.06638888888889_119.74361111111111_f_20200216_DT.tif\n"
     ]
    },
    {
     "name": "stderr",
     "output_type": "stream",
     "text": [
      " 70%|███████   | 128/182 [01:02<00:29,  1.82it/s]"
     ]
    },
    {
     "name": "stdout",
     "output_type": "stream",
     "text": [
      "Working on /rapids/notebooks/sciclone/geograd/Miranda/github/Building_Detection_CN/DigitalGlobe_FineTune/images_wgs84/32.04694444444444_119.65305555555557_f_20171220_DT.tif\n"
     ]
    },
    {
     "name": "stderr",
     "output_type": "stream",
     "text": [
      " 71%|███████▏  | 130/182 [01:02<00:19,  2.70it/s]"
     ]
    },
    {
     "name": "stdout",
     "output_type": "stream",
     "text": [
      "Working on /rapids/notebooks/sciclone/geograd/Miranda/github/Building_Detection_CN/DigitalGlobe_FineTune/images_wgs84/32.06388888888888_119.62638888888888_f_20200216_DT.tif\n",
      "Working on /rapids/notebooks/sciclone/geograd/Miranda/github/Building_Detection_CN/DigitalGlobe_FineTune/images_wgs84/32.06916666666667_119.60888888888888_f_20200216_DT.tif\n"
     ]
    },
    {
     "name": "stderr",
     "output_type": "stream",
     "text": [
      " 72%|███████▏  | 131/182 [01:03<00:21,  2.43it/s]"
     ]
    },
    {
     "name": "stdout",
     "output_type": "stream",
     "text": [
      "Working on /rapids/notebooks/sciclone/geograd/Miranda/github/Building_Detection_CN/DigitalGlobe_FineTune/images_wgs84/32.07555555555556_119.77944444444444_f_20200216_DT.tif\n"
     ]
    },
    {
     "name": "stderr",
     "output_type": "stream",
     "text": [
      " 73%|███████▎  | 132/182 [01:03<00:20,  2.45it/s]"
     ]
    },
    {
     "name": "stdout",
     "output_type": "stream",
     "text": [
      "Working on /rapids/notebooks/sciclone/geograd/Miranda/github/Building_Detection_CN/DigitalGlobe_FineTune/images_wgs84/32.07083333333334_119.65722222222223_f_20171220_DT.tif\n"
     ]
    },
    {
     "name": "stderr",
     "output_type": "stream",
     "text": [
      " 73%|███████▎  | 133/182 [01:04<00:25,  1.92it/s]"
     ]
    },
    {
     "name": "stdout",
     "output_type": "stream",
     "text": [
      "Working on /rapids/notebooks/sciclone/geograd/Miranda/github/Building_Detection_CN/DigitalGlobe_FineTune/images_wgs84/32.12222222222222_119.80916666666667_f_20210322_DT.tif\n"
     ]
    },
    {
     "name": "stderr",
     "output_type": "stream",
     "text": [
      " 74%|███████▎  | 134/182 [01:04<00:26,  1.79it/s]"
     ]
    },
    {
     "name": "stdout",
     "output_type": "stream",
     "text": [
      "Working on /rapids/notebooks/sciclone/geograd/Miranda/github/Building_Detection_CN/DigitalGlobe_FineTune/images_wgs84/32.08083333333334_119.99888888888889_f_20210322_DT.tif\n"
     ]
    },
    {
     "name": "stderr",
     "output_type": "stream",
     "text": [
      " 74%|███████▍  | 135/182 [01:05<00:22,  2.10it/s]"
     ]
    },
    {
     "name": "stdout",
     "output_type": "stream",
     "text": [
      "Working on /rapids/notebooks/sciclone/geograd/Miranda/github/Building_Detection_CN/DigitalGlobe_FineTune/images_wgs84/32.08416666666667_119.89916666666667_f_20210322_DT.tif\n"
     ]
    },
    {
     "name": "stderr",
     "output_type": "stream",
     "text": [
      " 75%|███████▍  | 136/182 [01:05<00:25,  1.80it/s]"
     ]
    },
    {
     "name": "stdout",
     "output_type": "stream",
     "text": [
      "Working on /rapids/notebooks/sciclone/geograd/Miranda/github/Building_Detection_CN/DigitalGlobe_FineTune/images_wgs84/32.12777777777778_119.86611111111111_f_20210322_DT.tif\n"
     ]
    },
    {
     "name": "stderr",
     "output_type": "stream",
     "text": [
      " 75%|███████▌  | 137/182 [01:06<00:26,  1.73it/s]"
     ]
    },
    {
     "name": "stdout",
     "output_type": "stream",
     "text": [
      "Working on /rapids/notebooks/sciclone/geograd/Miranda/github/Building_Detection_CN/DigitalGlobe_FineTune/images_wgs84/32.007222222222225_120.48666666666666_f_20201215_DT.tif\n"
     ]
    },
    {
     "name": "stderr",
     "output_type": "stream",
     "text": [
      " 76%|███████▌  | 138/182 [01:07<00:25,  1.72it/s]"
     ]
    },
    {
     "name": "stdout",
     "output_type": "stream",
     "text": [
      "Working on /rapids/notebooks/sciclone/geograd/Miranda/github/Building_Detection_CN/DigitalGlobe_FineTune/images_wgs84/32.12027777777778_119.82555555555555_f_20210322_DT.tif\n"
     ]
    },
    {
     "name": "stderr",
     "output_type": "stream",
     "text": [
      " 76%|███████▋  | 139/182 [01:07<00:27,  1.59it/s]"
     ]
    },
    {
     "name": "stdout",
     "output_type": "stream",
     "text": [
      "Working on /rapids/notebooks/sciclone/geograd/Miranda/github/Building_Detection_CN/DigitalGlobe_FineTune/images_wgs84/21.75_108.35_port_20190410_DT.tif\n"
     ]
    },
    {
     "name": "stderr",
     "output_type": "stream",
     "text": [
      " 77%|███████▋  | 141/182 [01:08<00:19,  2.11it/s]"
     ]
    },
    {
     "name": "stdout",
     "output_type": "stream",
     "text": [
      "Working on /rapids/notebooks/sciclone/geograd/Miranda/github/Building_Detection_CN/DigitalGlobe_FineTune/images_wgs84/21.708333333333332_112.2611111111111_ps_20201021_DT.tif\n",
      "Working on /rapids/notebooks/sciclone/geograd/Miranda/github/Building_Detection_CN/DigitalGlobe_FineTune/images_wgs84/23.4225_116.74888888888889_f_20211112_DT.tif\n"
     ]
    },
    {
     "name": "stderr",
     "output_type": "stream",
     "text": [
      " 79%|███████▊  | 143/182 [01:09<00:17,  2.28it/s]"
     ]
    },
    {
     "name": "stdout",
     "output_type": "stream",
     "text": [
      "Working on /rapids/notebooks/sciclone/geograd/Miranda/github/Building_Detection_CN/DigitalGlobe_FineTune/images_wgs84/22.381944444444446_113.59138888888889_port_20201116_DT.tif\n",
      "Working on /rapids/notebooks/sciclone/geograd/Miranda/github/Building_Detection_CN/DigitalGlobe_FineTune/images_wgs84/22.15611111111111_113.3611111111111_port_20171208_DT.tif\n"
     ]
    },
    {
     "name": "stderr",
     "output_type": "stream",
     "text": [
      " 80%|███████▉  | 145/182 [01:11<00:21,  1.71it/s]"
     ]
    },
    {
     "name": "stdout",
     "output_type": "stream",
     "text": [
      "Working on /rapids/notebooks/sciclone/geograd/Miranda/github/Building_Detection_CN/DigitalGlobe_FineTune/images_wgs84/22.592499999999998_114.42666666666668_port_20210202_DT.tif\n",
      "Working on /rapids/notebooks/sciclone/geograd/Miranda/github/Building_Detection_CN/DigitalGlobe_FineTune/images_wgs84/22.91583333333333_112.48555555555555_ps_20181101_DT.tif\n"
     ]
    },
    {
     "name": "stderr",
     "output_type": "stream",
     "text": [
      " 81%|████████  | 147/182 [01:11<00:13,  2.64it/s]"
     ]
    },
    {
     "name": "stdout",
     "output_type": "stream",
     "text": [
      "Working on /rapids/notebooks/sciclone/geograd/Miranda/github/Building_Detection_CN/DigitalGlobe_FineTune/images_wgs84/22.604722222222225_114.55138888888888_ps_20211108_DT.tif\n",
      "Working on /rapids/notebooks/sciclone/geograd/Miranda/github/Building_Detection_CN/DigitalGlobe_FineTune/images_wgs84/23.27111111111111_114.20194444444445_ps_20200428_DT.tif\n"
     ]
    },
    {
     "name": "stderr",
     "output_type": "stream",
     "text": [
      " 82%|████████▏ | 149/182 [01:11<00:08,  3.72it/s]"
     ]
    },
    {
     "name": "stdout",
     "output_type": "stream",
     "text": [
      "Working on /rapids/notebooks/sciclone/geograd/Miranda/github/Building_Detection_CN/DigitalGlobe_FineTune/images_wgs84/22.772777777777776_113.60694444444444_port_20211006_DT.tif\n",
      "Working on /rapids/notebooks/sciclone/geograd/Miranda/github/Building_Detection_CN/DigitalGlobe_FineTune/images_wgs84/23.046666666666667_113.51333333333334_port_20211124_DT.tif\n"
     ]
    },
    {
     "name": "stderr",
     "output_type": "stream",
     "text": [
      " 83%|████████▎ | 151/182 [01:12<00:05,  5.23it/s]"
     ]
    },
    {
     "name": "stdout",
     "output_type": "stream",
     "text": [
      "Working on /rapids/notebooks/sciclone/geograd/Miranda/github/Building_Detection_CN/DigitalGlobe_FineTune/images_wgs84/22.73638888888889_114.62388888888889_port_20211113_DT.tif\n",
      "Working on /rapids/notebooks/sciclone/geograd/Miranda/github/Building_Detection_CN/DigitalGlobe_FineTune/images_wgs84/23.093333333333334_113.44305555555556_port_20211124_DT.tif\n"
     ]
    },
    {
     "name": "stderr",
     "output_type": "stream",
     "text": [
      " 84%|████████▎ | 152/182 [01:12<00:06,  4.84it/s]"
     ]
    },
    {
     "name": "stdout",
     "output_type": "stream",
     "text": [
      "Working on /rapids/notebooks/sciclone/geograd/Miranda/github/Building_Detection_CN/DigitalGlobe_FineTune/images_wgs84/23.053333333333335_113.52388888888889_port_20191213_DT.tif\n"
     ]
    },
    {
     "name": "stderr",
     "output_type": "stream",
     "text": [
      " 84%|████████▍ | 153/182 [01:12<00:08,  3.41it/s]"
     ]
    },
    {
     "name": "stdout",
     "output_type": "stream",
     "text": [
      "Working on /rapids/notebooks/sciclone/geograd/Miranda/github/Building_Detection_CN/DigitalGlobe_FineTune/images_wgs84/19.72972222222222_109.19777777777779_port_20210215_DT.tif\n"
     ]
    },
    {
     "name": "stderr",
     "output_type": "stream",
     "text": [
      " 85%|████████▍ | 154/182 [01:13<00:08,  3.30it/s]"
     ]
    },
    {
     "name": "stdout",
     "output_type": "stream",
     "text": [
      "Working on /rapids/notebooks/sciclone/geograd/Miranda/github/Building_Detection_CN/DigitalGlobe_FineTune/images_wgs84/18.72583333333333_110.20111111111112_f_20190704_DT.tif\n"
     ]
    },
    {
     "name": "stderr",
     "output_type": "stream",
     "text": [
      " 85%|████████▌ | 155/182 [01:13<00:08,  3.37it/s]"
     ]
    },
    {
     "name": "stdout",
     "output_type": "stream",
     "text": [
      "Working on /rapids/notebooks/sciclone/geograd/Miranda/github/Building_Detection_CN/DigitalGlobe_FineTune/images_wgs84/19.10527777777778_108.73277777777778_f_20210703_DT.tif\n"
     ]
    },
    {
     "name": "stderr",
     "output_type": "stream",
     "text": [
      " 86%|████████▌ | 156/182 [01:14<00:09,  2.62it/s]"
     ]
    },
    {
     "name": "stdout",
     "output_type": "stream",
     "text": [
      "Working on /rapids/notebooks/sciclone/geograd/Miranda/github/Building_Detection_CN/DigitalGlobe_FineTune/images_wgs84/19.460555555555555_108.89972222222222_ps_20210225_DT.tif\n"
     ]
    },
    {
     "name": "stderr",
     "output_type": "stream",
     "text": [
      " 86%|████████▋ | 157/182 [01:14<00:08,  2.97it/s]"
     ]
    },
    {
     "name": "stdout",
     "output_type": "stream",
     "text": [
      "Working on /rapids/notebooks/sciclone/geograd/Miranda/github/Building_Detection_CN/DigitalGlobe_FineTune/images_wgs84/21.483333333333334_109.08333333333333_port_20200707_DT.tif\n"
     ]
    },
    {
     "name": "stderr",
     "output_type": "stream",
     "text": [
      " 87%|████████▋ | 159/182 [01:14<00:07,  3.17it/s]"
     ]
    },
    {
     "name": "stdout",
     "output_type": "stream",
     "text": [
      "Working on /rapids/notebooks/sciclone/geograd/Miranda/github/Building_Detection_CN/DigitalGlobe_FineTune/images_wgs84/28.95722222222222_115.15944444444445_ps_20171126_DT.tif\n",
      "Working on /rapids/notebooks/sciclone/geograd/Miranda/github/Building_Detection_CN/DigitalGlobe_FineTune/images_wgs84/21.670833333333334_108.55833333333334_ps_20190303_DT.tif\n"
     ]
    },
    {
     "name": "stderr",
     "output_type": "stream",
     "text": [
      " 88%|████████▊ | 161/182 [01:15<00:05,  3.82it/s]"
     ]
    },
    {
     "name": "stdout",
     "output_type": "stream",
     "text": [
      "Working on /rapids/notebooks/sciclone/geograd/Miranda/github/Building_Detection_CN/DigitalGlobe_FineTune/images_wgs84/27.797777777777778_114.61083333333333_f_20191208_DT.tif\n",
      "Working on /rapids/notebooks/sciclone/geograd/Miranda/github/Building_Detection_CN/DigitalGlobe_FineTune/images_wgs84/26.461111111111112_119.69722222222222_port_20201009_DT.tif\n"
     ]
    },
    {
     "name": "stderr",
     "output_type": "stream",
     "text": [
      " 90%|████████▉ | 163/182 [01:15<00:04,  4.44it/s]"
     ]
    },
    {
     "name": "stdout",
     "output_type": "stream",
     "text": [
      "Working on /rapids/notebooks/sciclone/geograd/Miranda/github/Building_Detection_CN/DigitalGlobe_FineTune/images_wgs84/28.83361111111111_114.44555555555556_ps_20210930_DT.tif\n",
      "Working on /rapids/notebooks/sciclone/geograd/Miranda/github/Building_Detection_CN/DigitalGlobe_FineTune/images_wgs84/29.95_121.7_port_20200815_DT.tif\n"
     ]
    },
    {
     "name": "stderr",
     "output_type": "stream",
     "text": [
      " 90%|█████████ | 164/182 [01:16<00:04,  3.79it/s]"
     ]
    },
    {
     "name": "stdout",
     "output_type": "stream",
     "text": [
      "Working on /rapids/notebooks/sciclone/geograd/Miranda/github/Building_Detection_CN/DigitalGlobe_FineTune/images_wgs84/29.047500000000003_114.575_f_20210421_DT.tif\n"
     ]
    },
    {
     "name": "stderr",
     "output_type": "stream",
     "text": [
      " 91%|█████████ | 166/182 [01:16<00:03,  4.04it/s]"
     ]
    },
    {
     "name": "stdout",
     "output_type": "stream",
     "text": [
      "Working on /rapids/notebooks/sciclone/geograd/Miranda/github/Building_Detection_CN/DigitalGlobe_FineTune/images_wgs84/28.683333333333334_121.45_port_20210902_DT.tif\n",
      "Working on /rapids/notebooks/sciclone/geograd/Miranda/github/Building_Detection_CN/DigitalGlobe_FineTune/images_wgs84/24.45_118.06666666666666_port_20211204_DT.tif\n"
     ]
    },
    {
     "name": "stderr",
     "output_type": "stream",
     "text": [
      " 92%|█████████▏| 167/182 [01:16<00:04,  3.33it/s]"
     ]
    },
    {
     "name": "stdout",
     "output_type": "stream",
     "text": [
      "Working on /rapids/notebooks/sciclone/geograd/Miranda/github/Building_Detection_CN/DigitalGlobe_FineTune/images_wgs84/23.565833333333334_117.10388888888889_port_20211113_DT.tif\n"
     ]
    },
    {
     "name": "stderr",
     "output_type": "stream",
     "text": [
      " 93%|█████████▎| 169/182 [01:17<00:02,  4.36it/s]"
     ]
    },
    {
     "name": "stdout",
     "output_type": "stream",
     "text": [
      "Working on /rapids/notebooks/sciclone/geograd/Miranda/github/Building_Detection_CN/DigitalGlobe_FineTune/images_wgs84/24.68611111111111_114.89500000000001_f_20210204_DT.tif\n",
      "Working on /rapids/notebooks/sciclone/geograd/Miranda/github/Building_Detection_CN/DigitalGlobe_FineTune/images_wgs84/24.91611111111111_105.0961111111111_ps_20190515_DT.tif\n"
     ]
    },
    {
     "name": "stderr",
     "output_type": "stream",
     "text": [
      " 94%|█████████▍| 171/182 [01:17<00:02,  4.24it/s]"
     ]
    },
    {
     "name": "stdout",
     "output_type": "stream",
     "text": [
      "Working on /rapids/notebooks/sciclone/geograd/Miranda/github/Building_Detection_CN/DigitalGlobe_FineTune/images_wgs84/25.35666666666667_115.14_ps_20191213_DT.tif\n",
      "Working on /rapids/notebooks/sciclone/geograd/Miranda/github/Building_Detection_CN/DigitalGlobe_FineTune/images_wgs84/25.73638888888889_102.48972222222223_ps_20210205_DT.tif"
     ]
    },
    {
     "name": "stderr",
     "output_type": "stream",
     "text": [
      " 95%|█████████▍| 172/182 [01:17<00:01,  5.03it/s]"
     ]
    },
    {
     "name": "stdout",
     "output_type": "stream",
     "text": [
      "\n",
      "Working on /rapids/notebooks/sciclone/geograd/Miranda/github/Building_Detection_CN/DigitalGlobe_FineTune/images_wgs84/25.191666666666666_102.1913888888889_ps_20180225_DT.tif\n"
     ]
    },
    {
     "name": "stderr",
     "output_type": "stream",
     "text": [
      " 96%|█████████▌| 174/182 [01:18<00:01,  4.83it/s]"
     ]
    },
    {
     "name": "stdout",
     "output_type": "stream",
     "text": [
      "Working on /rapids/notebooks/sciclone/geograd/Miranda/github/Building_Detection_CN/DigitalGlobe_FineTune/images_wgs84/25.445833333333333_119.44722222222222_ps_20210808_DT.tif\n"
     ]
    },
    {
     "name": "stderr",
     "output_type": "stream",
     "text": [
      " 96%|█████████▌| 175/182 [01:18<00:01,  5.21it/s]"
     ]
    },
    {
     "name": "stdout",
     "output_type": "stream",
     "text": [
      "Working on /rapids/notebooks/sciclone/geograd/Miranda/github/Building_Detection_CN/DigitalGlobe_FineTune/images_wgs84/25.423055555555557_119.28861111111111_port_20191117_DT.tif\n",
      "Working on /rapids/notebooks/sciclone/geograd/Miranda/github/Building_Detection_CN/DigitalGlobe_FineTune/images_wgs84/26.460555555555555_118.76527777777778_ps_20150219_DT.tif\n"
     ]
    },
    {
     "name": "stderr",
     "output_type": "stream",
     "text": [
      " 97%|█████████▋| 177/182 [01:18<00:00,  6.14it/s]"
     ]
    },
    {
     "name": "stdout",
     "output_type": "stream",
     "text": [
      "Working on /rapids/notebooks/sciclone/geograd/Miranda/github/Building_Detection_CN/DigitalGlobe_FineTune/images_wgs84/27.044444444444448_120.28333333333333_ps_20200906_DT.tif\n",
      "Working on /rapids/notebooks/sciclone/geograd/Miranda/github/Building_Detection_CN/DigitalGlobe_FineTune/images_wgs84/27.776666666666667_114.61583333333333_ps_20191227_DT.tif\n"
     ]
    },
    {
     "name": "stderr",
     "output_type": "stream",
     "text": [
      " 98%|█████████▊| 179/182 [01:19<00:00,  5.07it/s]"
     ]
    },
    {
     "name": "stdout",
     "output_type": "stream",
     "text": [
      "Working on /rapids/notebooks/sciclone/geograd/Miranda/github/Building_Detection_CN/DigitalGlobe_FineTune/images_wgs84/27.648888888888887_112.7911111111111_ps_20200427_DT.tif\n"
     ]
    },
    {
     "name": "stderr",
     "output_type": "stream",
     "text": [
      " 99%|█████████▉| 180/182 [01:19<00:00,  5.35it/s]"
     ]
    },
    {
     "name": "stdout",
     "output_type": "stream",
     "text": [
      "Working on /rapids/notebooks/sciclone/geograd/Miranda/github/Building_Detection_CN/DigitalGlobe_FineTune/images_wgs84/32.882777777777775_119.7363888888889_f_20201228_DT.tif\n",
      "Working on /rapids/notebooks/sciclone/geograd/Miranda/github/Building_Detection_CN/DigitalGlobe_FineTune/images_wgs84/32.165277777777774_119.80027777777778_f_20171220_DT.tif\n"
     ]
    },
    {
     "name": "stderr",
     "output_type": "stream",
     "text": [
      " 99%|█████████▉| 181/182 [01:20<00:00,  2.40it/s]"
     ]
    },
    {
     "name": "stdout",
     "output_type": "stream",
     "text": [
      "Working on /rapids/notebooks/sciclone/geograd/Miranda/github/Building_Detection_CN/DigitalGlobe_FineTune/images_wgs84/34.64194444444444_103.17888888888889_ps_20161115_DT.tif\n"
     ]
    },
    {
     "name": "stderr",
     "output_type": "stream",
     "text": [
      "100%|██████████| 182/182 [01:20<00:00,  2.26it/s]\n"
     ]
    }
   ],
   "source": [
    "# Generating json annotation for each image\n",
    "\n",
    "gen_annotation = True\n",
    "\n",
    "while gen_annotation:\n",
    "    \n",
    "    gen_annotation = False\n",
    "\n",
    "    for k in tqdm(image_dict):\n",
    "\n",
    "        gdf = gpd.read_file(label_dict[k])\n",
    "        if not gdf.empty:\n",
    "            print(\"Working on {}\".format(image_dict[k]))\n",
    "            generate_annotation(image_dict[k], label_dict[k], \"building\")\n",
    "            dest = Path(out_label_dir)/\"images\"\n",
    "            shutil.copy(image_dict[k], dest)"
   ]
  },
  {
   "cell_type": "code",
   "execution_count": 9,
   "id": "04f0a0bd",
   "metadata": {},
   "outputs": [],
   "source": [
    "\n",
    "def split_train_val(img_folder, split_rate=None):\n",
    "      \n",
    "    # split_rate is the percentage of training dataset among all data\n",
    "    \n",
    "    rpath = os.path.dirname(img_folder)\n",
    "\n",
    "    train_path = os.path.join(rpath, \"train\")\n",
    "    val_path = os.path.join(rpath, \"val\")\n",
    "\n",
    "    # create training and val folder\n",
    "    Path(train_path).mkdir(exist_ok=True, parents=True)\n",
    "    Path(val_path).mkdir(exist_ok=True, parents=True)\n",
    "\n",
    "    img_paths = [os.path.join(img_folder, f) for f in os.listdir(img_folder) if f.endswith(\".tif\")]\n",
    "    # define the idx of images that are used as training dataset\n",
    "    nt = len(img_paths) * split_rate\n",
    "    tidxs = random.sample(range(0, len(img_paths)), int(nt))\n",
    "    vidxs = [i for i in range(0, len(img_paths)) if i not in tidxs]\n",
    "\n",
    "    trains_json = list()\n",
    "    vals_json = list()\n",
    "\n",
    "    for idx in tidxs:\n",
    "        basename = \".\".join(os.path.basename(img_paths[idx]).split(\".\")[:-1])\n",
    "        annotationfile = Path(out_label_dir)/ \"annotations\" / ('{}.json').format(basename)\n",
    "        shutil.copy(img_paths[idx], train_path)\n",
    "        trains_json.append(annotationfile)\n",
    "\n",
    "    for idx in vidxs:\n",
    "        basename = \".\".join(os.path.basename(img_paths[idx]).split(\".\")[:-1])\n",
    "        annotationfile = Path(out_label_dir)/ \"annotations\" / ('{}.json').format(basename)\n",
    "        shutil.copy(img_paths[idx], val_path)\n",
    "        vals_json.append(annotationfile)\n",
    "\n",
    "    agg_annotation(trains_json, train_path)\n",
    "    agg_annotation(vals_json, val_path)\n",
    "\n",
    "def agg_annotation(annote_list, despath):\n",
    "\n",
    "    file_dict = dict()\n",
    "    desfile = os.path.join(despath, \"annotation.json\")\n",
    "    for file in annote_list:\n",
    "        f = open(file)\n",
    "        img_id = \".\".join(os.path.basename(file).split(\".\")[:-1])\n",
    "        file_dict[img_id] = json.load(f)\n",
    "\n",
    "    with open(desfile, 'w') as js:\n",
    "        json.dump(file_dict, js)\n",
    "        \n",
    "\n",
    "        \n",
    "# Call the code        \n",
    "gen_train_val = True\n",
    "\n",
    "while gen_train_val:\n",
    "    gen_train_val = False\n",
    "    split_train_val(dest, split_rate=0.8)"
   ]
  },
  {
   "cell_type": "code",
   "execution_count": null,
   "id": "c0bc7098",
   "metadata": {},
   "outputs": [],
   "source": []
  },
  {
   "cell_type": "code",
   "execution_count": null,
   "id": "3b52b650",
   "metadata": {},
   "outputs": [],
   "source": []
  },
  {
   "cell_type": "code",
   "execution_count": null,
   "id": "4a0f89c0",
   "metadata": {},
   "outputs": [],
   "source": []
  },
  {
   "cell_type": "code",
   "execution_count": null,
   "id": "aa4ff48d",
   "metadata": {},
   "outputs": [],
   "source": []
  }
 ],
 "metadata": {
  "kernelspec": {
   "display_name": "Python 3",
   "language": "python",
   "name": "python3"
  },
  "language_info": {
   "codemirror_mode": {
    "name": "ipython",
    "version": 3
   },
   "file_extension": ".py",
   "mimetype": "text/x-python",
   "name": "python",
   "nbconvert_exporter": "python",
   "pygments_lexer": "ipython3",
   "version": "3.7.10"
  }
 },
 "nbformat": 4,
 "nbformat_minor": 5
}
