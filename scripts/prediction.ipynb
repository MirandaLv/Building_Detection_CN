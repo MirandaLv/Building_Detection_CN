{
 "cells": [
  {
   "cell_type": "code",
   "execution_count": 1,
   "metadata": {},
   "outputs": [],
   "source": []
  },
  {
   "cell_type": "code",
   "execution_count": 5,
   "metadata": {},
   "outputs": [],
   "source": [
    "import os\n",
    "import sys\n",
    "import random\n",
    "import math\n",
    "import re\n",
    "import time\n",
    "import numpy as np\n",
    "import tensorflow as tf\n",
    "import matplotlib\n",
    "import matplotlib.pyplot as plt\n",
    "import matplotlib.patches as patches\n",
    "\n",
    "# Root directory of the project\n",
    "ROOT_DIR = os.path.abspath(\"../\")\n",
    "\n",
    "# Import Mask RCNN\n",
    "sys.path.append(ROOT_DIR)  # To find local version of the library\n",
    "from mrcnn1 import utils\n",
    "from mrcnn1 import visualize\n",
    "from mrcnn1.visualize import display_images\n",
    "import mrcnn1.model as modellib\n",
    "from mrcnn1.model import log\n",
    "\n",
    "import buildings\n",
    "\n",
    "%matplotlib inline \n",
    "\n",
    "# Directory to save logs and trained model\n",
    "MODEL_DIR = os.path.join(ROOT_DIR, \"logs\")\n",
    "\n",
    "# Path to Ballon trained weights\n",
    "# You can download this file from the Releases page\n",
    "# https://github.com/matterport/Mask_RCNN/releases\n",
    "BALLON_WEIGHTS_PATH = os.path.join(ROOT_DIR, \"weights/mask_rcnn_coco.h5\")\n",
    "#\"/path/to/mask_rcnn_balloon.h5\"  # TODO: update this path"
   ]
  },
  {
   "cell_type": "code",
   "execution_count": 7,
   "metadata": {},
   "outputs": [
    {
     "ename": "NameError",
     "evalue": "name 'DEVICE' is not defined",
     "output_type": "error",
     "traceback": [
      "\u001b[0;31m---------------------------------------------------------------------------\u001b[0m",
      "\u001b[0;31mNameError\u001b[0m                                 Traceback (most recent call last)",
      "\u001b[0;32m<ipython-input-7-9a6b04ba9156>\u001b[0m in \u001b[0;36m<module>\u001b[0;34m()\u001b[0m\n\u001b[1;32m      1\u001b[0m \u001b[0;31m# Create model in inference mode\u001b[0m\u001b[0;34m\u001b[0m\u001b[0;34m\u001b[0m\u001b[0;34m\u001b[0m\u001b[0m\n\u001b[0;32m----> 2\u001b[0;31m \u001b[0;32mwith\u001b[0m \u001b[0mtf\u001b[0m\u001b[0;34m.\u001b[0m\u001b[0mdevice\u001b[0m\u001b[0;34m(\u001b[0m\u001b[0mDEVICE\u001b[0m\u001b[0;34m)\u001b[0m\u001b[0;34m:\u001b[0m\u001b[0;34m\u001b[0m\u001b[0;34m\u001b[0m\u001b[0m\n\u001b[0m\u001b[1;32m      3\u001b[0m     model = modellib.MaskRCNN(mode=\"inference\", model_dir=MODEL_DIR,\n\u001b[1;32m      4\u001b[0m                               config=config)\n",
      "\u001b[0;31mNameError\u001b[0m: name 'DEVICE' is not defined"
     ]
    }
   ],
   "source": [
    "# Create model in inference mode\n",
    "with tf.device(DEVICE):\n",
    "    model = modellib.MaskRCNN(mode=\"inference\", model_dir=MODEL_DIR,\n",
    "                              config=config)"
   ]
  },
  {
   "cell_type": "code",
   "execution_count": null,
   "metadata": {},
   "outputs": [],
   "source": [
    "# Set path to balloon weights file\n",
    "\n",
    "# Download file from the Releases page and set its path\n",
    "# https://github.com/matterport/Mask_RCNN/releases\n",
    "# weights_path = \"/path/to/mask_rcnn_balloon.h5\"\n",
    "\n",
    "# Or, load the last model you trained\n",
    "weights_path = BALLON_WEIGHTS_PATH #model.find_last()\n",
    "\n",
    "# Load weights\n",
    "print(\"Loading weights \", weights_path)\n",
    "model.load_weights(weights_path, by_name=True)"
   ]
  },
  {
   "cell_type": "code",
   "execution_count": null,
   "metadata": {},
   "outputs": [],
   "source": []
  },
  {
   "cell_type": "code",
   "execution_count": null,
   "metadata": {},
   "outputs": [],
   "source": []
  },
  {
   "cell_type": "code",
   "execution_count": null,
   "metadata": {},
   "outputs": [],
   "source": []
  },
  {
   "cell_type": "code",
   "execution_count": null,
   "metadata": {},
   "outputs": [],
   "source": [
    "\n",
    "def detect_and_color_splash(model, image_path=None, video_path=None):\n",
    "    assert image_path or video_path\n",
    "\n",
    "    # Image or video?\n",
    "    if image_path:\n",
    "        # Run model detection and generate the color splash effect\n",
    "        print(\"Running on {}\".format(args.image))\n",
    "        # Read image\n",
    "        image = skimage.io.imread(args.image)\n",
    "        image = image[:,:,[0,1,2]]\n",
    "        # Detect objects\n",
    "        r = model.detect([image], verbose=1)[0]  # detect: returns a list of dicts, one dicts per image.\n",
    "        # Color spash\n",
    "        splash = color_splash(image, r[\"masks\"])\n",
    "        # Save output\n",
    "        file_name = \"splash_{:%Y%m%dT%H%M%S}.png\".format(datetime.datetime.now())\n",
    "        skimage.io.imsave(file_name, splash)\n",
    "\n",
    "    elif video_path:\n",
    "        import cv2\n",
    "        # Video capture\n",
    "        vcapture = cv2.VideoCapture(video_path)\n",
    "        width = int(vcapture.get(cv2.CAP_PROP_FRAME_WIDTH))\n",
    "        height = int(vcapture.get(cv2.CAP_PROP_FRAME_HEIGHT))\n",
    "        fps = vcapture.get(cv2.CAP_PROP_FPS)\n",
    "\n",
    "        # Define codec and create video writer\n",
    "        file_name = \"splash_{:%Y%m%dT%H%M%S}.avi\".format(datetime.datetime.now())\n",
    "        vwriter = cv2.VideoWriter(file_name,\n",
    "                                  cv2.VideoWriter_fourcc(*'MJPG'),\n",
    "                                  fps, (width, height))\n",
    "\n",
    "        count = 0\n",
    "        success = True\n",
    "        while success:\n",
    "            print(\"frame: \", count)\n",
    "\n",
    "            # Read next image\n",
    "            success, image = vcapture.read()\n",
    "            if success:\n",
    "                # OpenCV returns images as BGR, convert to RGB\n",
    "                image = image[..., ::-1]\n",
    "                # Detect objects\n",
    "                r = model.detect([image], verbose=0)[0]\n",
    "                # Color splash\n",
    "                splash = color_splash(image, r['masks'])\n",
    "                # RGB -> BGR to ave image to video\n",
    "                splash = splash[..., ::-1]\n",
    "                # Add image to video writer\n",
    "                vwriter.write(splash)\n",
    "                count += 1\n",
    "        vwriter.release()\n",
    "    print(\"Saved to \", file_name)"
   ]
  },
  {
   "cell_type": "code",
   "execution_count": null,
   "metadata": {},
   "outputs": [],
   "source": []
  },
  {
   "cell_type": "code",
   "execution_count": null,
   "metadata": {},
   "outputs": [],
   "source": []
  },
  {
   "cell_type": "code",
   "execution_count": null,
   "metadata": {},
   "outputs": [],
   "source": []
  },
  {
   "cell_type": "code",
   "execution_count": null,
   "metadata": {},
   "outputs": [],
   "source": []
  },
  {
   "cell_type": "code",
   "execution_count": null,
   "metadata": {},
   "outputs": [],
   "source": []
  }
 ],
 "metadata": {
  "kernelspec": {
   "display_name": "Python 3",
   "language": "python",
   "name": "python3"
  },
  "language_info": {
   "codemirror_mode": {
    "name": "ipython",
    "version": 3
   },
   "file_extension": ".py",
   "mimetype": "text/x-python",
   "name": "python",
   "nbconvert_exporter": "python",
   "pygments_lexer": "ipython3",
   "version": "3.7.10"
  }
 },
 "nbformat": 4,
 "nbformat_minor": 4
}
